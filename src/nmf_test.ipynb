{
 "cells": [
  {
   "cell_type": "code",
   "execution_count": 2,
   "metadata": {},
   "outputs": [],
   "source": [
    "%load_ext autoreload\n",
    "%autoreload 2\n",
    "\n",
    "from ipywidgets import interact, interactive, fixed, interact_manual\n",
    "import ipywidgets as widgets"
   ]
  },
  {
   "cell_type": "code",
   "execution_count": 3,
   "metadata": {},
   "outputs": [],
   "source": [
    "# Define your functions in organised individual python files. Don't throw them randomly in the notebook\n",
    "\n",
    "## Import image processing modules\n",
    "import os\n",
    "import numpy as np\n",
    "from PIL import Image\n",
    "\n",
    "from utils.misc import load_data, load_data_AR\n",
    "\n",
    "## Import Algorithms\n",
    "from algs import NmfL2Estimator, NmfHyperEstimator"
   ]
  },
  {
   "cell_type": "code",
   "execution_count": 4,
   "metadata": {},
   "outputs": [
    {
     "name": "stdout",
     "output_type": "stream",
     "text": [
      "ORL dataset: X.shape = (2576, 400), Y.shape = (400,)\n"
     ]
    }
   ],
   "source": [
    "# Load ORL dataset.\n",
    "X, Y = load_data(root='data/ORL', reduce=2)\n",
    "print('ORL dataset: X.shape = {}, Y.shape = {}'.format(X.shape, Y.shape))"
   ]
  },
  {
   "cell_type": "markdown",
   "metadata": {},
   "source": [
    "## NMF l2 test"
   ]
  },
  {
   "cell_type": "code",
   "execution_count": 57,
   "metadata": {},
   "outputs": [],
   "source": [
    "k = 2\n",
    "num_samples = 1\n",
    "d, n = X.shape\n",
    "\n",
    "# nmf_l2 = NmfL2Estimator(k, max_iter=1000, verbose=1)"
   ]
  },
  {
   "cell_type": "code",
   "execution_count": 58,
   "metadata": {},
   "outputs": [
    {
     "data": {
      "application/vnd.jupyter.widget-view+json": {
       "model_id": "5beda3e7658b488cb1e8f1dbc8a4c253",
       "version_major": 2,
       "version_minor": 0
      },
      "text/plain": [
       "interactive(children=(IntSlider(value=400, description='n', max=400, min=1), IntSlider(value=2576, description…"
      ]
     },
     "metadata": {},
     "output_type": "display_data"
    }
   ],
   "source": [
    "@interact(n=widgets.IntSlider(min=1, max=400, step=1, value=400),\n",
    "          d=widgets.IntSlider(min=1, max=2576, step=1, value=2576), \n",
    "          k=widgets.IntSlider(min=1, max=500, step=1, value=500),\n",
    "          max_iter=widgets.IntSlider(min=0, max=1000, step=10, value=1000), \n",
    "          verbose=widgets.IntSlider(min=0, max=2, step=1, value=1),\n",
    "          continuous_update=False)\n",
    "def fit(n, d, k, max_iter, verbose):\n",
    "    nmf_l2 = NmfL2Estimator(k, max_iter=max_iter, verbose=verbose)\n",
    "    nmf_l2.fit(X[:d, :n])"
   ]
  },
  {
   "cell_type": "markdown",
   "metadata": {},
   "source": [
    "### Test by checking reconstruction"
   ]
  },
  {
   "cell_type": "code",
   "execution_count": 59,
   "metadata": {},
   "outputs": [
    {
     "name": "stdout",
     "output_type": "stream",
     "text": [
      "ORL dataset: X.shape = (1110, 400), Y.shape = (400,)\n"
     ]
    }
   ],
   "source": [
    "X, Y = load_data(root='data/ORL', reduce=3)\n",
    "print('ORL dataset: X.shape = {}, Y.shape = {}'.format(X.shape, Y.shape))\n",
    "\n",
    "k = 500\n",
    "max_iter = 1000\n",
    "verbose = 0\n",
    "\n",
    "nmf_l2 = NmfL2Estimator(k, max_iter=max_iter, verbose=verbose)\n",
    "nmf_l2.fit(X)\n",
    "D = nmf_l2.D\n",
    "R = nmf_l2.R\n",
    "X_pred = D @ R"
   ]
  },
  {
   "cell_type": "code",
   "execution_count": 60,
   "metadata": {},
   "outputs": [
    {
     "data": {
      "image/png": "[encoded data removed]",
      "text/plain": [
       "<Figure size 720x432 with 2 Axes>"
      ]
     },
     "metadata": {
      "needs_background": "light"
     },
     "output_type": "display_data"
    }
   ],
   "source": [
    "# Plot result.\n",
    "import matplotlib.pyplot as plt\n",
    "img_size = [i//3 for i in (92, 112)] # ORL\n",
    "ind = 2 # index of demo image.\n",
    "img = X[:, ind]\n",
    "img_pred = X_pred[:, ind]\n",
    "\n",
    "plt.figure(figsize=(10,6))\n",
    "plt.subplot(121)\n",
    "plt.imshow(img.reshape(img_size[1],img_size[0]), cmap=plt.cm.gray)\n",
    "plt.title('Image(Original)')\n",
    "plt.subplot(122)\n",
    "plt.imshow(img_pred.reshape(img_size[1],img_size[0]), cmap=plt.cm.gray)\n",
    "plt.title('reconstructed')\n",
    "plt.show()"
   ]
  },
  {
   "cell_type": "markdown",
   "metadata": {},
   "source": [
    "## NMF hyper test"
   ]
  },
  {
   "cell_type": "code",
   "execution_count": 5,
   "metadata": {},
   "outputs": [],
   "source": [
    "k = 2\n",
    "num_samples = 1\n",
    "d, n = X.shape"
   ]
  },
  {
   "cell_type": "code",
   "execution_count": 70,
   "metadata": {},
   "outputs": [
    {
     "data": {
      "application/vnd.jupyter.widget-view+json": {
       "model_id": "9ed2182bb7f8400fb1e6a9223163b406",
       "version_major": 2,
       "version_minor": 0
      },
      "text/plain": [
       "interactive(children=(IntSlider(value=400, description='n', max=400, min=1), IntSlider(value=2576, description…"
      ]
     },
     "metadata": {},
     "output_type": "display_data"
    }
   ],
   "source": [
    "@interact(n=widgets.IntSlider(min=1, max=400, step=1, value=400),\n",
    "          d=widgets.IntSlider(min=1, max=2576, step=1, value=2576), \n",
    "          k=widgets.IntSlider(min=1, max=500, step=1, value=500),\n",
    "          max_iter=widgets.IntSlider(min=0, max=1000, step=10, value=1000), \n",
    "          verbose=widgets.IntSlider(min=0, max=2, step=1, value=1),\n",
    "          continuous_update=False)\n",
    "def fit(n, d, k, max_iter, verbose):\n",
    "    nmf_hyper = NmfHyperEstimator(k=k, max_iter=max_iter, verbose=verbose)\n",
    "    nmf_hyper.fit(X[:d, :n])"
   ]
  },
  {
   "cell_type": "markdown",
   "metadata": {},
   "source": [
    "### Test by checking reconstruction"
   ]
  },
  {
   "cell_type": "code",
   "execution_count": null,
   "metadata": {},
   "outputs": [
    {
     "name": "stdout",
     "output_type": "stream",
     "text": [
      "ORL dataset: X.shape = (1110, 400), Y.shape = (400,)\n"
     ]
    }
   ],
   "source": [
    "X, Y = load_data(root='data/ORL', reduce=3)\n",
    "print('ORL dataset: X.shape = {}, Y.shape = {}'.format(X.shape, Y.shape))\n",
    "\n",
    "k = 500\n",
    "max_iter = 1000\n",
    "verbose = 0\n",
    "\n",
    "nmf_hyper = NmfHyperEstimator(k=k, max_iter=max_iter, verbose=verbose)\n",
    "nmf_hyper.fit(X)\n",
    "D = nmf_hyper.D\n",
    "R = nmf_hyper.R\n",
    "X_pred = D @ R"
   ]
  },
  {
   "cell_type": "code",
   "execution_count": null,
   "metadata": {},
   "outputs": [],
   "source": [
    "# Plot result.\n",
    "import matplotlib.pyplot as plt\n",
    "img_size = [i//3 for i in (92, 112)] # ORL\n",
    "ind = 2 # index of demo image.\n",
    "img = X[:, ind]\n",
    "img_pred = X_pred[:, ind]\n",
    "\n",
    "plt.figure(figsize=(10,6))\n",
    "plt.subplot(121)\n",
    "plt.imshow(img.reshape(img_size[1],img_size[0]), cmap=plt.cm.gray)\n",
    "plt.title('Image(Original)')\n",
    "plt.subplot(122)\n",
    "plt.imshow(img_pred.reshape(img_size[1],img_size[0]), cmap=plt.cm.gray)\n",
    "plt.title('reconstructed')\n",
    "plt.show()"
   ]
  },
  {
   "cell_type": "code",
   "execution_count": null,
   "metadata": {},
   "outputs": [],
   "source": []
  }
 ],
 "metadata": {
  "kernelspec": {
   "display_name": "Python 3",
   "language": "python",
   "name": "python3"
  },
  "language_info": {
   "codemirror_mode": {
    "name": "ipython",
    "version": 3
   },
   "file_extension": ".py",
   "mimetype": "text/x-python",
   "name": "python",
   "nbconvert_exporter": "python",
   "pygments_lexer": "ipython3",
   "version": "3.7.6"
  }
 },
 "nbformat": 4,
 "nbformat_minor": 4
}
