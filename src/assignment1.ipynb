{
 "cells": [
  {
   "cell_type": "markdown",
   "metadata": {},
   "source": [
    "## COMP5328 - Advanced Machine Learning\n",
    "## Assignment 1: Non-negative Matrix Factorization\n",
    "----------------------------------------------------------------------------------------"
   ]
  },
  {
   "cell_type": "markdown",
   "metadata": {},
   "source": [
    "**(Semester 2, 2020)**\n",
    "\n",
    "In this ipython notebook, we provide some example code for assignment1.\n",
    "+ Load Data.\n",
    "    - ORL dataset. \n",
    "    - Extended YaleB dataset. \n",
    "    - AR dataset (**optional**).\n",
    "+ Perform Evaluation. \n",
    "   - Relative Reconstruction Errors.\n",
    "   - Accuracy, NMI (**optional**).\n",
    "\n",
    "Lecturer: Tongliang Liu.\n",
    "\n",
    "Tutors: Nicholas James, Songhua Wu, Xuefeng Li, Yu Yao.\n",
    "\n",
    "**Note: All datasets can be used only for this assignment and you are not allowed to distribute these datasets. If you want to use AR dataset, you need to apply it by yourself (we do not provide AR dataset due to the problem of license, please find more details in http://www2.ece.ohio-state.edu/~aleix/ARdatabase.html).**"
   ]
  },
  {
   "cell_type": "markdown",
   "metadata": {},
   "source": [
    "## 0. Load Modules"
   ]
  },
  {
   "cell_type": "code",
   "execution_count": 2,
   "metadata": {},
   "outputs": [],
   "source": [
    "# autoreload for modules\n",
    "%load_ext autoreload\n",
    "%autoreload 2\n",
    "\n",
    "# Define your functions in organised individual python files. Don't throw them randomly in the notebook\n",
    "\n",
    "## Import image processing modules\n",
    "import os\n",
    "import numpy as np\n",
    "import pandas as pd # Used for simpler processing of data\n",
    "import matplotlib.pyplot as plt\n",
    "from PIL import Image\n",
    "\n",
    "from utils.misc import load_data, load_data_AR\n",
    "\n",
    "## Import Algorithms\n",
    "from algs import NmfHyperEstimator, NmfL2Estimator\n",
    "\n",
    "#Import preprocessing\n",
    "from preprocessing import SaltNPepper, Gaussian, ImageNormalizer"
   ]
  },
  {
   "cell_type": "markdown",
   "metadata": {},
   "source": [
    "## 1. Load Dataset\n",
    "\n",
    "### 1.0 Data Folder"
   ]
  },
  {
   "cell_type": "code",
   "execution_count": 3,
   "metadata": {
    "scrolled": true
   },
   "outputs": [
    {
     "name": "stderr",
     "output_type": "stream",
     "text": [
      "'ls' is not recognized as an internal or external command,\n",
      "operable program or batch file.\n"
     ]
    }
   ],
   "source": [
    "# The structure of data folder.\n",
    "!ls -l data"
   ]
  },
  {
   "cell_type": "raw",
   "metadata": {},
   "source": [
    "# Tree structure of data folder.\n",
    "├── CroppedAR\n",
    "    ├── M-001-01.bmp\n",
    "    ├── M-001-01.txt\n",
    "    ├── M-001-02.bmp\n",
    "    ├── M-001-02.txt\n",
    "    ├── ...\n",
    "├── CroppedYaleB\n",
    "│   ├── yaleB01\n",
    "│   ├── yaleB02\n",
    "│   ...\n",
    "│   ├── yaleB38\n",
    "│   └── yaleB39\n",
    "└── ORL\n",
    "    ├── s1\n",
    "    ├── s2\n",
    "    ├── s3\n",
    "    ├── ...\n",
    "    ├── s40"
   ]
  },
  {
   "cell_type": "markdown",
   "metadata": {},
   "source": [
    "### 1.1 Load ORL Dataset and Extended YaleB Dataset.\n",
    "+ ORL dataset contains ten different images of each of 40 distinct subjects. For some subjects, the images were taken at different times, varying the lighting, facial expressions (open / closed eyes, smiling / not smiling) and facial details (glasses / no glasses). All the images were taken against a dark homogeneous background with the subjects in an upright, frontal position (with tolerance for some side movement). The size of each image is 92x112 pixels, with 256 grey levels per pixel. To further reduce the computation complexity, you can resize all images to 30x37 pixels.\n",
    "\n",
    "+ Extended YaleB dataset contains 2414 images of 38 human subjects under 9 poses and 64 illumination conditions. All images are manually aligned, cropped, and then resized to 168x192 pixels. To further reduce the computation complexity, you can resize all images to 42x48 pixels."
   ]
  },
  {
   "cell_type": "code",
   "execution_count": 4,
   "metadata": {
    "scrolled": true
   },
   "outputs": [
    {
     "name": "stdout",
     "output_type": "stream",
     "text": [
      "ORL dataset: X.shape = (2576, 400), Y.shape = (400,)\n",
      "Extended YalB dataset: X.shape = (2016, 2414), Y.shape = (2414,)\n"
     ]
    }
   ],
   "source": [
    "# Load ORL dataset.\n",
    "X_orl, Y_orl = load_data(root='data/ORL', reduce=2)\n",
    "print('ORL dataset: X.shape = {}, Y.shape = {}'.format(X_orl.shape, Y_orl.shape))\n",
    "\n",
    "# Load Extended YaleB dataset.\n",
    "X_yaleb, Y_yaleb = load_data(root='data/CroppedYaleB', reduce=4)\n",
    "print('Extended YalB dataset: X.shape = {}, Y.shape = {}'.format(X_yaleb.shape, Y_yaleb.shape))"
   ]
  },
  {
   "cell_type": "markdown",
   "metadata": {},
   "source": [
    "### 1.2 Load AR Dataset (Optional) \n",
    "AR dataset contains 2600 images of 100 individuals (50 male and 50 female). All images have been cropped and resized to 120x165 pixels. To further reduce the computation complexity, you can resize all images to 40x55 pixels."
   ]
  },
  {
   "cell_type": "code",
   "execution_count": 5,
   "metadata": {
    "scrolled": true
   },
   "outputs": [],
   "source": [
    "# X, Y = load_data_AR(root='data/CroppedAR', reduce=3)\n",
    "# print('AR dataset: X.shape = {}, Y.shape = {}'.format(X.shape, Y.shape))"
   ]
  },
  {
   "cell_type": "markdown",
   "metadata": {},
   "source": [
    "## 2. Evaluation Metrics\n",
    "\n",
    "\n",
    "### 2.1 Relative Reconstruction Errors (RRE)\n",
    "\n",
    "To compare the robustness of different NMF algorithms, you can use the ```relative reconstruction errors```. Let $V$ denote the contaminated dataset (by adding noise), and $\\hat{V}$\n",
    " denote the clean dataset. Let $W$ and $H$ denote the factorization results on $V$, the ``relative reconstruction errors`` then can be defined as follows:\n",
    " \\begin{equation}\n",
    "    RRE = \\frac{ \\| \\hat{V} - WH \\|_F }{ \\| \\hat{V} \\|_F}.\n",
    "\\end{equation}\n"
   ]
  },
  {
   "cell_type": "code",
   "execution_count": 47,
   "metadata": {},
   "outputs": [],
   "source": [
    "#Demonstrate noisy Image\n",
    "V_hat, Y_hat = load_data(root='data/ORL', reduce=3)\n",
    "\n",
    "noise = SaltNPepper(p=0.1, r=0.4) \n",
    "scaler = ImageNormalizer()\n",
    "V_snp = noise.fit_transform(scaler.fit_transform(V_hat))\n",
    "\n",
    "noise_g = Gaussian(mean=0, sigma=0.05) \n",
    "V_g = noise_g.fit_transform(scaler.fit_transform(V_hat))"
   ]
  },
  {
   "cell_type": "code",
   "execution_count": 48,
   "metadata": {},
   "outputs": [
    {
     "data": {
      "image/png": "[encoded data removed]",
      "text/plain": [
       "<Figure size 1080x216 with 3 Axes>"
      ]
     },
     "metadata": {
      "needs_background": "light"
     },
     "output_type": "display_data"
    }
   ],
   "source": [
    "#Plot result.\n",
    "img_size = [i//3 for i in (90, 111)] #ORL\n",
    "ind = 2 # index of demo image.\n",
    "plt.figure(figsize=(15,3))\n",
    "plt.subplot(131)\n",
    "plt.imshow(V_hat[:,ind].reshape(img_size[1],img_size[0]), cmap=plt.cm.gray)\n",
    "plt.title('Image(Original)')\n",
    "plt.subplot(132)\n",
    "plt.imshow(V_snp[:,ind].reshape(img_size[1],img_size[0]), cmap=plt.cm.gray)\n",
    "plt.title('Image(snp Noise) p = 0.05 r=0.4')\n",
    "plt.subplot(133)\n",
    "plt.imshow(V_g[:,ind].reshape(img_size[1],img_size[0]), cmap=plt.cm.gray)\n",
    "plt.title('Image(Gaussian noise) mean=0 sd=0.05')\n",
    "plt.show()"
   ]
  },
  {
   "cell_type": "code",
   "execution_count": 51,
   "metadata": {},
   "outputs": [
    {
     "name": "stdout",
     "output_type": "stream",
     "text": [
      "(30, 400)\n",
      "(1110, 30)\n"
     ]
    }
   ],
   "source": [
    "#Image Reconstruction\n",
    "model = NmfHyperEstimator(n_components=30) # set n_components to num_classes.\n",
    "W = model.fit_transform(V_snp)\n",
    "H = model.components_\n",
    "\n",
    "print(W.shape)\n",
    "print(H.shape)\n",
    "\n",
    "#Salt n Pepper\n",
    "V_snp_reconstructed = H.dot(W)"
   ]
  },
  {
   "cell_type": "code",
   "execution_count": 53,
   "metadata": {},
   "outputs": [
    {
     "data": {
      "image/png": "[encoded data removed]",
      "text/plain": [
       "<Figure size 1080x216 with 3 Axes>"
      ]
     },
     "metadata": {
      "needs_background": "light"
     },
     "output_type": "display_data"
    }
   ],
   "source": [
    "#Reconstruction (snp noise)\n",
    "#img_size = [i//3 for i in (126, 144)] #CroppedYaleB\n",
    "img_size = [i//3 for i in (90, 111)] #ORL\n",
    "ind = 2 # index of demo image.\n",
    "plt.figure(figsize=(15,3))\n",
    "plt.subplot(131)\n",
    "plt.imshow(V_hat[:,ind].reshape(img_size[1],img_size[0]), cmap=plt.cm.gray)\n",
    "plt.title('Image(Original)')\n",
    "plt.subplot(132)\n",
    "plt.imshow(V_snp[:,ind].reshape(img_size[1],img_size[0]), cmap=plt.cm.gray)\n",
    "plt.title('Image(snp Noise) p = 0.05 r=0.4')\n",
    "plt.subplot(133)\n",
    "plt.imshow(V_snp_reconstructed[:,ind].reshape(img_size[1],img_size[0]), cmap=plt.cm.gray)\n",
    "plt.title('Image(Reconstructed)')\n",
    "plt.show()"
   ]
  },
  {
   "cell_type": "code",
   "execution_count": 58,
   "metadata": {},
   "outputs": [],
   "source": [
    "#Gaussian\n",
    "W = model.fit_transform(V_g)\n",
    "H = model.components_\n",
    "\n",
    "#Image Reconstruction\n",
    "V_g_reconstructed = H.dot(W)"
   ]
  },
  {
   "cell_type": "code",
   "execution_count": 59,
   "metadata": {},
   "outputs": [
    {
     "data": {
      "image/png": "[encoded data removed]",
      "text/plain": [
       "<Figure size 648x864 with 3 Axes>"
      ]
     },
     "metadata": {
      "needs_background": "light"
     },
     "output_type": "display_data"
    }
   ],
   "source": [
    "#Reconstruction on CroppedYaleB (snp noise)\n",
    "#img_size = [i//3 for i in (126, 144)] #CroppedYaleB\n",
    "img_size = [i//3 for i in (90, 111)] #ORL\n",
    "ind = 2 # index of demo image.\n",
    "plt.figure(figsize=(9,12))\n",
    "plt.subplot(131)\n",
    "plt.imshow(V_hat[:,ind].reshape(img_size[1],img_size[0]), cmap=plt.cm.gray)\n",
    "plt.title('Image(Original)')\n",
    "plt.subplot(132)\n",
    "plt.imshow(V_g[:,ind].reshape(img_size[1],img_size[0]), cmap=plt.cm.gray)\n",
    "plt.title('Image(Gaussian noise)')\n",
    "plt.subplot(133)\n",
    "plt.imshow(V_g_reconstructed[:,ind].reshape(img_size[1],img_size[0]), cmap=plt.cm.gray)\n",
    "plt.title('Image(Reconstructed)')\n",
    "plt.show()"
   ]
  },
  {
   "cell_type": "markdown",
   "metadata": {},
   "source": [
    "### 2.2 Evaluate Clustering Performance\n",
    "\n",
    "1. Accuracy.\n",
    "    \n",
    "    $$ Acc(Y, Y_{pred}) = \\frac{1}{n}\\sum\\limits_{i=1}^n 1\\{Y_{pred}(i) == Y(i)\\}$$\n",
    "        \n",
    "2. Normalized Mutual Information (NMI).\n",
    "\n",
    "    $$ NMI(Y, Y_{pred}) = \\frac{2 * I(Y, Y_{pred})}{H(Y) + H(Y_{pred})} $$\n",
    "    \n",
    "   where $ I(\\cdot,\\cdot) $ is mutual information and $ H(\\cdot) $ is entropy."
   ]
  },
  {
   "cell_type": "code",
   "execution_count": 54,
   "metadata": {},
   "outputs": [],
   "source": [
    "from collections import Counter\n",
    "from sklearn.cluster import KMeans\n",
    "from sklearn.metrics import accuracy_score\n",
    "from sklearn.metrics import normalized_mutual_info_score\n",
    "\n",
    "def assign_cluster_label(X, Y):\n",
    "    kmeans = KMeans(n_clusters=len(set(Y))).fit(X)\n",
    "    Y_pred = np.zeros(Y.shape)\n",
    "    for i in set(kmeans.labels_):\n",
    "        ind = kmeans.labels_ == i\n",
    "        Y_pred[ind] = Counter(Y[ind]).most_common(1)[0][0] # assign label.\n",
    "    return Y_pred\n"
   ]
  },
  {
   "cell_type": "code",
   "execution_count": 55,
   "metadata": {},
   "outputs": [],
   "source": [
    "from sklearn.decomposition import NMF\n",
    "\n",
    "\n",
    "# Transpose X for correct shape\n",
    "class ModifiedNMF:\n",
    "    def __init__(self, *args, **kwargs):\n",
    "        self.nmf = NMF(*args, **kwargs)\n",
    "    \n",
    "    def fit(self, X, *args, **kwargs):\n",
    "        X = X.T\n",
    "        self.nmf.fit(X, *args, **kwargs)\n",
    "        return self\n",
    "    \n",
    "    def transform(self, X, *args, **kwargs):\n",
    "        X = X.T\n",
    "        return self.nmf.transform(X, *args, **kwargs).T\n",
    "    \n",
    "    def fit_transform(self, X, *args, **kwargs):\n",
    "        X = X.T\n",
    "        return self.nmf.fit_transform(X, *args, **kwargs).T\n",
    "    \n",
    "    @property\n",
    "    def components_(self):\n",
    "        return self.nmf.components_.T"
   ]
  },
  {
   "cell_type": "code",
   "execution_count": 55,
   "metadata": {},
   "outputs": [
    {
     "name": "stdout",
     "output_type": "stream",
     "text": [
      "Noise: {'noise_id': 0, 'noise_level': 0.1, 'ratio': 0.0}\n",
      "    Trail: 0\n",
      "        Alg: ModifiedNMF {}\n",
      "        Alg: NmfL2Estimator {}\n",
      "        Alg: NmfHyperEstimator {'max_armijo': 0, 'alpha0': 0.3, 'beta0': 0.5}\n",
      "    Trail: 1\n",
      "        Alg: ModifiedNMF {}\n",
      "        Alg: NmfL2Estimator {}\n",
      "        Alg: NmfHyperEstimator {'max_armijo': 0, 'alpha0': 0.3, 'beta0': 0.5}\n",
      "    Trail: 2\n",
      "        Alg: ModifiedNMF {}\n",
      "        Alg: NmfL2Estimator {}\n",
      "        Alg: NmfHyperEstimator {'max_armijo': 0, 'alpha0': 0.3, 'beta0': 0.5}\n",
      "Noise: {'noise_id': 1, 'noise_level': 0.2, 'ratio': 0.0}\n",
      "    Trail: 0\n",
      "        Alg: ModifiedNMF {}\n",
      "        Alg: NmfL2Estimator {}\n",
      "        Alg: NmfHyperEstimator {'max_armijo': 0, 'alpha0': 0.3, 'beta0': 0.5}\n",
      "    Trail: 1\n",
      "        Alg: ModifiedNMF {}\n",
      "        Alg: NmfL2Estimator {}\n",
      "        Alg: NmfHyperEstimator {'max_armijo': 0, 'alpha0': 0.3, 'beta0': 0.5}\n",
      "    Trail: 2\n",
      "        Alg: ModifiedNMF {}\n",
      "        Alg: NmfL2Estimator {}\n",
      "        Alg: NmfHyperEstimator {'max_armijo': 0, 'alpha0': 0.3, 'beta0': 0.5}\n",
      "Noise: {'noise_id': 2, 'noise_level': 0.30000000000000004, 'ratio': 0.0}\n",
      "    Trail: 0\n",
      "        Alg: ModifiedNMF {}\n",
      "        Alg: NmfL2Estimator {}\n",
      "        Alg: NmfHyperEstimator {'max_armijo': 0, 'alpha0': 0.3, 'beta0': 0.5}\n",
      "    Trail: 1\n",
      "        Alg: ModifiedNMF {}\n",
      "        Alg: NmfL2Estimator {}\n",
      "        Alg: NmfHyperEstimator {'max_armijo': 0, 'alpha0': 0.3, 'beta0': 0.5}\n",
      "    Trail: 2\n",
      "        Alg: ModifiedNMF {}\n",
      "        Alg: NmfL2Estimator {}\n",
      "        Alg: NmfHyperEstimator {'max_armijo': 0, 'alpha0': 0.3, 'beta0': 0.5}\n",
      "Noise: {'noise_id': 3, 'noise_level': 0.4, 'ratio': 0.0}\n",
      "    Trail: 0\n",
      "        Alg: ModifiedNMF {}\n",
      "        Alg: NmfL2Estimator {}\n",
      "        Alg: NmfHyperEstimator {'max_armijo': 0, 'alpha0': 0.3, 'beta0': 0.5}\n",
      "    Trail: 1\n",
      "        Alg: ModifiedNMF {}\n",
      "        Alg: NmfL2Estimator {}\n",
      "        Alg: NmfHyperEstimator {'max_armijo': 0, 'alpha0': 0.3, 'beta0': 0.5}\n",
      "    Trail: 2\n",
      "        Alg: ModifiedNMF {}\n",
      "        Alg: NmfL2Estimator {}\n",
      "        Alg: NmfHyperEstimator {'max_armijo': 0, 'alpha0': 0.3, 'beta0': 0.5}\n",
      "Noise: {'noise_id': 4, 'noise_level': 0.1, 'ratio': 0.5}\n",
      "    Trail: 0\n",
      "        Alg: ModifiedNMF {}\n",
      "        Alg: NmfL2Estimator {}\n",
      "        Alg: NmfHyperEstimator {'max_armijo': 0, 'alpha0': 0.3, 'beta0': 0.5}\n",
      "    Trail: 1\n",
      "        Alg: ModifiedNMF {}\n",
      "        Alg: NmfL2Estimator {}\n",
      "        Alg: NmfHyperEstimator {'max_armijo': 0, 'alpha0': 0.3, 'beta0': 0.5}\n",
      "    Trail: 2\n",
      "        Alg: ModifiedNMF {}\n",
      "        Alg: NmfL2Estimator {}\n",
      "        Alg: NmfHyperEstimator {'max_armijo': 0, 'alpha0': 0.3, 'beta0': 0.5}\n",
      "Noise: {'noise_id': 5, 'noise_level': 0.2, 'ratio': 0.5}\n",
      "    Trail: 0\n",
      "        Alg: ModifiedNMF {}\n",
      "        Alg: NmfL2Estimator {}\n",
      "        Alg: NmfHyperEstimator {'max_armijo': 0, 'alpha0': 0.3, 'beta0': 0.5}\n",
      "    Trail: 1\n",
      "        Alg: ModifiedNMF {}\n",
      "        Alg: NmfL2Estimator {}\n",
      "        Alg: NmfHyperEstimator {'max_armijo': 0, 'alpha0': 0.3, 'beta0': 0.5}\n",
      "    Trail: 2\n",
      "        Alg: ModifiedNMF {}\n",
      "        Alg: NmfL2Estimator {}\n",
      "        Alg: NmfHyperEstimator {'max_armijo': 0, 'alpha0': 0.3, 'beta0': 0.5}\n",
      "Noise: {'noise_id': 6, 'noise_level': 0.30000000000000004, 'ratio': 0.5}\n",
      "    Trail: 0\n",
      "        Alg: ModifiedNMF {}\n",
      "        Alg: NmfL2Estimator {}\n",
      "        Alg: NmfHyperEstimator {'max_armijo': 0, 'alpha0': 0.3, 'beta0': 0.5}\n",
      "    Trail: 1\n",
      "        Alg: ModifiedNMF {}\n",
      "        Alg: NmfL2Estimator {}\n",
      "        Alg: NmfHyperEstimator {'max_armijo': 0, 'alpha0': 0.3, 'beta0': 0.5}\n",
      "    Trail: 2\n",
      "        Alg: ModifiedNMF {}\n",
      "        Alg: NmfL2Estimator {}\n",
      "        Alg: NmfHyperEstimator {'max_armijo': 0, 'alpha0': 0.3, 'beta0': 0.5}\n",
      "Noise: {'noise_id': 7, 'noise_level': 0.4, 'ratio': 0.5}\n",
      "    Trail: 0\n",
      "        Alg: ModifiedNMF {}\n",
      "        Alg: NmfL2Estimator {}\n",
      "        Alg: NmfHyperEstimator {'max_armijo': 0, 'alpha0': 0.3, 'beta0': 0.5}\n",
      "    Trail: 1\n",
      "        Alg: ModifiedNMF {}\n",
      "        Alg: NmfL2Estimator {}\n",
      "        Alg: NmfHyperEstimator {'max_armijo': 0, 'alpha0': 0.3, 'beta0': 0.5}\n",
      "    Trail: 2\n",
      "        Alg: ModifiedNMF {}\n",
      "        Alg: NmfL2Estimator {}\n",
      "        Alg: NmfHyperEstimator {'max_armijo': 0, 'alpha0': 0.3, 'beta0': 0.5}\n"
     ]
    },
    {
     "name": "stderr",
     "output_type": "stream",
     "text": [
      "G:\\Python\\Anaconda\\lib\\site-packages\\sklearn\\decomposition\\_nmf.py:1076: ConvergenceWarning: Maximum number of iterations 200 reached. Increase it to improve convergence.\n",
      "  warnings.warn(\"Maximum number of iterations %d reached. Increase it to\"\n",
      "G:\\Python\\Anaconda\\lib\\site-packages\\sklearn\\decomposition\\_nmf.py:1076: ConvergenceWarning: Maximum number of iterations 200 reached. Increase it to improve convergence.\n",
      "  warnings.warn(\"Maximum number of iterations %d reached. Increase it to\"\n"
     ]
    },
    {
     "name": "stdout",
     "output_type": "stream",
     "text": [
      "        Alg: NmfL2Estimator {}\n",
      "        Alg: NmfHyperEstimator {'max_armijo': 0, 'alpha0': 0.3, 'beta0': 0.5}\n",
      "    Trail: 1\n",
      "        Alg: ModifiedNMF {}\n"
     ]
    },
    {
     "name": "stderr",
     "output_type": "stream",
     "text": [
      "G:\\Python\\Anaconda\\lib\\site-packages\\sklearn\\decomposition\\_nmf.py:1076: ConvergenceWarning: Maximum number of iterations 200 reached. Increase it to improve convergence.\n",
      "  warnings.warn(\"Maximum number of iterations %d reached. Increase it to\"\n",
      "G:\\Python\\Anaconda\\lib\\site-packages\\sklearn\\decomposition\\_nmf.py:1076: ConvergenceWarning: Maximum number of iterations 200 reached. Increase it to improve convergence.\n",
      "  warnings.warn(\"Maximum number of iterations %d reached. Increase it to\"\n"
     ]
    },
    {
     "name": "stdout",
     "output_type": "stream",
     "text": [
      "        Alg: NmfL2Estimator {}\n",
      "        Alg: NmfHyperEstimator {'max_armijo': 0, 'alpha0': 0.3, 'beta0': 0.5}\n",
      "    Trail: 2\n",
      "        Alg: ModifiedNMF {}\n"
     ]
    },
    {
     "name": "stderr",
     "output_type": "stream",
     "text": [
      "G:\\Python\\Anaconda\\lib\\site-packages\\sklearn\\decomposition\\_nmf.py:1076: ConvergenceWarning: Maximum number of iterations 200 reached. Increase it to improve convergence.\n",
      "  warnings.warn(\"Maximum number of iterations %d reached. Increase it to\"\n",
      "G:\\Python\\Anaconda\\lib\\site-packages\\sklearn\\decomposition\\_nmf.py:1076: ConvergenceWarning: Maximum number of iterations 200 reached. Increase it to improve convergence.\n",
      "  warnings.warn(\"Maximum number of iterations %d reached. Increase it to\"\n"
     ]
    },
    {
     "name": "stdout",
     "output_type": "stream",
     "text": [
      "        Alg: NmfL2Estimator {}\n",
      "        Alg: NmfHyperEstimator {'max_armijo': 0, 'alpha0': 0.3, 'beta0': 0.5}\n",
      "Noise: {'noise_id': 1, 'noise_level': 0.2, 'ratio': 0.0}\n",
      "    Trail: 0\n",
      "        Alg: ModifiedNMF {}\n"
     ]
    },
    {
     "name": "stderr",
     "output_type": "stream",
     "text": [
      "G:\\Python\\Anaconda\\lib\\site-packages\\sklearn\\decomposition\\_nmf.py:1076: ConvergenceWarning: Maximum number of iterations 200 reached. Increase it to improve convergence.\n",
      "  warnings.warn(\"Maximum number of iterations %d reached. Increase it to\"\n",
      "G:\\Python\\Anaconda\\lib\\site-packages\\sklearn\\decomposition\\_nmf.py:1076: ConvergenceWarning: Maximum number of iterations 200 reached. Increase it to improve convergence.\n",
      "  warnings.warn(\"Maximum number of iterations %d reached. Increase it to\"\n"
     ]
    },
    {
     "name": "stdout",
     "output_type": "stream",
     "text": [
      "        Alg: NmfL2Estimator {}\n",
      "        Alg: NmfHyperEstimator {'max_armijo': 0, 'alpha0': 0.3, 'beta0': 0.5}\n",
      "    Trail: 1\n",
      "        Alg: ModifiedNMF {}\n"
     ]
    },
    {
     "name": "stderr",
     "output_type": "stream",
     "text": [
      "G:\\Python\\Anaconda\\lib\\site-packages\\sklearn\\decomposition\\_nmf.py:1076: ConvergenceWarning: Maximum number of iterations 200 reached. Increase it to improve convergence.\n",
      "  warnings.warn(\"Maximum number of iterations %d reached. Increase it to\"\n",
      "G:\\Python\\Anaconda\\lib\\site-packages\\sklearn\\decomposition\\_nmf.py:1076: ConvergenceWarning: Maximum number of iterations 200 reached. Increase it to improve convergence.\n",
      "  warnings.warn(\"Maximum number of iterations %d reached. Increase it to\"\n"
     ]
    },
    {
     "name": "stdout",
     "output_type": "stream",
     "text": [
      "        Alg: NmfL2Estimator {}\n",
      "        Alg: NmfHyperEstimator {'max_armijo': 0, 'alpha0': 0.3, 'beta0': 0.5}\n",
      "    Trail: 2\n",
      "        Alg: ModifiedNMF {}\n"
     ]
    },
    {
     "name": "stderr",
     "output_type": "stream",
     "text": [
      "G:\\Python\\Anaconda\\lib\\site-packages\\sklearn\\decomposition\\_nmf.py:1076: ConvergenceWarning: Maximum number of iterations 200 reached. Increase it to improve convergence.\n",
      "  warnings.warn(\"Maximum number of iterations %d reached. Increase it to\"\n",
      "G:\\Python\\Anaconda\\lib\\site-packages\\sklearn\\decomposition\\_nmf.py:1076: ConvergenceWarning: Maximum number of iterations 200 reached. Increase it to improve convergence.\n",
      "  warnings.warn(\"Maximum number of iterations %d reached. Increase it to\"\n"
     ]
    },
    {
     "name": "stdout",
     "output_type": "stream",
     "text": [
      "        Alg: NmfL2Estimator {}\n",
      "        Alg: NmfHyperEstimator {'max_armijo': 0, 'alpha0': 0.3, 'beta0': 0.5}\n",
      "Noise: {'noise_id': 2, 'noise_level': 0.30000000000000004, 'ratio': 0.0}\n",
      "    Trail: 0\n",
      "        Alg: ModifiedNMF {}\n"
     ]
    },
    {
     "name": "stderr",
     "output_type": "stream",
     "text": [
      "G:\\Python\\Anaconda\\lib\\site-packages\\sklearn\\decomposition\\_nmf.py:1076: ConvergenceWarning: Maximum number of iterations 200 reached. Increase it to improve convergence.\n",
      "  warnings.warn(\"Maximum number of iterations %d reached. Increase it to\"\n",
      "G:\\Python\\Anaconda\\lib\\site-packages\\sklearn\\decomposition\\_nmf.py:1076: ConvergenceWarning: Maximum number of iterations 200 reached. Increase it to improve convergence.\n",
      "  warnings.warn(\"Maximum number of iterations %d reached. Increase it to\"\n"
     ]
    },
    {
     "name": "stdout",
     "output_type": "stream",
     "text": [
      "        Alg: NmfL2Estimator {}\n",
      "        Alg: NmfHyperEstimator {'max_armijo': 0, 'alpha0': 0.3, 'beta0': 0.5}\n"
     ]
    }
   ],
   "source": [
    "import textwrap\n",
    "\n",
    "\n",
    "def indent(text, amount, ch=' '):\n",
    "        return textwrap.indent(text, amount * ch)\n",
    "\n",
    "\n",
    "def rre_score(model, X, Y, Y_pred, W, H):\n",
    "    return np.linalg.norm(X - W.dot(H)) / np.linalg.norm(X)\n",
    "\n",
    "\n",
    "def acc_score(model, X, Y, Y_pred, W, H):\n",
    "    return accuracy_score(Y, Y_pred)\n",
    "\n",
    "\n",
    "def nmi_score(model, X, Y, Y_pred, W, H):\n",
    "    return normalized_mutual_info_score(Y, Y_pred)\n",
    "\n",
    "\n",
    "def benchmark(X, Y, scaler,\n",
    "              alg_kwargs_pairs, all_n_components, # algs configs\n",
    "              noise_levels, ratios, # salt and pepper configs\n",
    "              metrics, metrics_names=None, # evaluations\n",
    "              n_trials=5, pc_sample=0.9): # sampling configs\n",
    "    \"\"\"Benchmark algs and output long form evaluation results\"\"\"\n",
    "    # Prepare column names in data frame\n",
    "    if metrics_names is None:\n",
    "        metrics_names = [m.__name__ for m in metrics]\n",
    "    \n",
    "    evaluations = pd.DataFrame(columns = \n",
    "                               [\"alg\", \"n_components\", \"kwargs\", \"noise_id\", \"noise_level\", \n",
    "                                \"ratio\", \"trial_id\"] + metrics_names)\n",
    "    if isinstance(all_n_components, int):\n",
    "        all_n_components = [all_n_components]\n",
    "        \n",
    "    # Prepare salt and pepper\n",
    "    noises = []\n",
    "    for i, (nl, r) in enumerate([[nl, r] for r in ratios for nl in noise_levels]):\n",
    "        noise = SaltNPepper(p=nl, r=r)\n",
    "        noises.append([noise, {\"noise_id\": i, \"noise_level\": nl, \"ratio\": r}])\n",
    "    # Prepare subseting\n",
    "    subset_idxs = []\n",
    "    for n in range(n_trials):\n",
    "        subset_idxs.append(np.random.choice(range(X.shape[1]), size=int(0.9 * X.shape[1]), replace=False))\n",
    "    # preprocess data\n",
    "    X = scaler.fit_transform(X)\n",
    "        \n",
    "    for noise, noise_kwargs in noises:\n",
    "        # Noise outer loop to keep it consistent between runs\n",
    "        X_noise = noise.fit_transform(X)\n",
    "        print(indent(\"Noise: \" + str(noise_kwargs), 0))\n",
    "        for i, subset_idx in enumerate(subset_idxs):\n",
    "            print(indent(\"Trail: \" + str(i), 4))\n",
    "            X_subset = X_noise[:, subset_idx]\n",
    "            Y_subset = Y[subset_idx]\n",
    "            for alg in alg_kwargs_pairs:\n",
    "                # Separate kwargs if additional kwargs are provided\n",
    "                try:\n",
    "                    if len(alg) == 2:\n",
    "                        alg, alg_kwargs = alg\n",
    "                except:\n",
    "                    alg_kwargs = {}\n",
    "                    \n",
    "                print(indent(\"Alg: \" + alg.__name__ + \" \" + str(alg_kwargs), 8))\n",
    "                for k in all_n_components:\n",
    "                    row = {**noise_kwargs}\n",
    "                    row.update(\n",
    "                        {\"alg\": alg.__name__, \"n_components\": k, \"kwargs\": alg_kwargs, \"trial_id\": i})\n",
    "                    model = alg(n_components=k, **alg_kwargs)\n",
    "                    H = model.fit_transform(X_subset)\n",
    "                    W = model.components_\n",
    "                    # print(model.__class__, \"W\", W.shape, \"H\", H.shape)\n",
    "                    # Y_pred = assign_cluster_label(H.T, Y_subset)\n",
    "                    Y_pred = assign_cluster_label(H.T, Y_subset)\n",
    "                    \n",
    "                    for metric, name in zip(metrics, metrics_names):\n",
    "                        row[name] = metric(model, X_subset, Y_subset, Y_pred, W, H)\n",
    "                    evaluations = evaluations.append(row, ignore_index=True)\n",
    "    return evaluations\n",
    "\n",
    "\n",
    "X, Y, scaler = X_orl, Y_orl, ImageNormalizer()\n",
    "alg_kwargs_pairs = [\n",
    "    ModifiedNMF, \n",
    "    NmfL2Estimator, \n",
    "    [NmfHyperEstimator, {\"max_armijo\": 0, \"alpha0\": 0.3, \"beta0\": 0.5}] # disable armijo search\n",
    "]\n",
    "all_n_components = range(10, 50, 20)\n",
    "noise_levels = np.arange(0.1, 0.5, 0.1)\n",
    "ratios = np.arange(0.0, 1, 0.5)\n",
    "metrics = [rre_score, acc_score, nmi_score]\n",
    "metrics_names = [\"rre\", \"acc_score\", \"nmi_score\"]\n",
    "n_trials = 3\n",
    "pc_sample = 0.4\n",
    "\n",
    "evaluations = benchmark(X_orl, Y_orl, scaler,\n",
    "                        alg_kwargs_pairs, all_n_components,\n",
    "                        noise_levels, ratios,\n",
    "                        metrics, metrics_names,\n",
    "                        n_trials, pc_sample\n",
    "                       )"
   ]
  },
  {
   "cell_type": "code",
   "execution_count": null,
   "metadata": {},
   "outputs": [],
   "source": [
    "# Simple check for scores\n",
    "(evaluations.query(\"n_components == 30 and ratio==1 and ratio==0.5\")\n",
    " .sort_values([\"trial_id\", \"acc_score\"]))"
   ]
  },
  {
   "cell_type": "code",
   "execution_count": null,
   "metadata": {},
   "outputs": [],
   "source": [
    "# Plotting RRE, Accuracy and NMI scores against different Salt & pepper noise levels for n_components=30\n",
    "import seaborn as sns\n",
    "\n",
    "fig = plt.figure(figsize=[9, 12])\n",
    "\n",
    "ax = fig.add_subplot(311)\n",
    "sns.lineplot(\n",
    "    x=\"noise_level\",\n",
    "    y=\"rre\",\n",
    "    hue=\"alg\",\n",
    "    #size=\"n_components\",\n",
    "    #style=\"ratio\",\n",
    "    data=evaluations.query(\"n_components == 30\"),# and noise_level==0.1\"),# and alg == 'NmfHyperEstimator'\"),\n",
    "    estimator='mean',\n",
    "    #ci=95,\n",
    "    ci = 'sd',\n",
    "    n_boot=1000,\n",
    "    seed=None,\n",
    "    sort=True,\n",
    "    err_style='band',\n",
    "    legend='full',\n",
    ")\n",
    "ax.set_xlabel('')\n",
    "ax.set_ylabel(\"Relative Reconstruction Error\")\n",
    "\n",
    "ax = fig.add_subplot(312)\n",
    "sns.lineplot(\n",
    "    x=\"noise_level\",\n",
    "    y=\"acc_score\",\n",
    "    hue=\"alg\",\n",
    "    #size=\"n_components\",\n",
    "    #style=\"ratio\",\n",
    "    data=evaluations.query(\"n_components == 30 and ratio==0.5\"),# and alg == 'NmfHyperEstimator'\"),\n",
    "    estimator='mean',\n",
    "    #ci=95,\n",
    "    ci = 'sd',\n",
    "    n_boot=1000,\n",
    "    seed=None,\n",
    "    sort=True,\n",
    "    err_style='band',\n",
    "    legend='full',\n",
    ")\n",
    "ax.set_xlabel('')\n",
    "ax.set_ylabel(\"Accuracy Score\")\n",
    "\n",
    "ax = fig.add_subplot(313)\n",
    "sns.lineplot(\n",
    "    x=\"noise_level\",\n",
    "    y=\"nmi_score\",\n",
    "    hue=\"alg\",\n",
    "    #size=\"n_components\",\n",
    "    #style=\"ratio\",\n",
    "    data=evaluations.query(\"n_components == 30\"),# and noise_level==0.1\"),# and alg == 'NmfHyperEstimator'\"),\n",
    "    estimator='mean',\n",
    "    #ci=95,\n",
    "    ci = 'sd',\n",
    "    n_boot=1000,\n",
    "    seed=None,\n",
    "    sort=True,\n",
    "    err_style='band',\n",
    "    legend='full',\n",
    ")\n",
    "ax.set_xlabel(\"Noise level\")\n",
    "ax.set_ylabel(\"Normalised Mutual Info Score\")"
   ]
  },
  {
   "cell_type": "code",
   "execution_count": null,
   "metadata": {},
   "outputs": [],
   "source": [
    "# Measuring RRE, Accuracy and NMI scores for n_components=30\n",
    "fig = plt.figure(figsize=[9, 12])\n",
    "\n",
    "ax = fig.add_subplot(311)\n",
    "sns.lineplot(\n",
    "    x=\"noise_level\",\n",
    "    y=\"acc_score\",\n",
    "    hue=\"alg\",\n",
    "    #size=\"n_components\",\n",
    "    #style=\"ratio\",\n",
    "    data=evaluations.query(\"n_components == 30 and ratio==0\"),# and alg == 'NmfHyperEstimator'\"),\n",
    "    estimator='mean',\n",
    "    #ci=95,\n",
    "    ci = 'sd',\n",
    "    n_boot=1000,\n",
    "    seed=None,\n",
    "    sort=True,\n",
    "    err_style='band',\n",
    "    legend='full',\n",
    ")\n",
    "ax.set_ylabel(\"Accuracy Score\")\n",
    "\n",
    "ax = fig.add_subplot(312)\n",
    "sns.lineplot(\n",
    "    x=\"noise_level\",\n",
    "    y=\"acc_score\",\n",
    "    hue=\"alg\",\n",
    "    #size=\"n_components\",\n",
    "    #style=\"ratio\",\n",
    "    data=evaluations.query(\"n_components == 30 and ratio==0.5\"),# and noise_level==0.1\"),# and alg == 'NmfHyperEstimator'\"),\n",
    "    estimator='mean',\n",
    "    #ci=95,\n",
    "    ci = 'sd',\n",
    "    n_boot=1000,\n",
    "    seed=None,\n",
    "    sort=True,\n",
    "    err_style='band',\n",
    "    legend='full',\n",
    ")\n",
    "ax.set_ylabel(\"Relative Reconstruction Error\")"
   ]
  },
  {
   "cell_type": "code",
   "execution_count": null,
   "metadata": {},
   "outputs": [],
   "source": []
  }
 ],
 "metadata": {
  "kernelspec": {
   "display_name": "Python 3",
   "language": "python",
   "name": "python3"
  },
  "language_info": {
   "codemirror_mode": {
    "name": "ipython",
    "version": 3
   },
   "file_extension": ".py",
   "mimetype": "text/x-python",
   "name": "python",
   "nbconvert_exporter": "python",
   "pygments_lexer": "ipython3",
   "version": "3.8.3"
  }
 },
 "nbformat": 4,
 "nbformat_minor": 4
}
