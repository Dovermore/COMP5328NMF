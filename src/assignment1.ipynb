{
 "cells": [
  {
   "cell_type": "markdown",
   "metadata": {},
   "source": [
    "## COMP5328 - Advanced Machine Learning\n",
    "## Assignment 1: Non-negative Matrix Factorization\n",
    "----------------------------------------------------------------------------------------"
   ]
  },
  {
   "cell_type": "markdown",
   "metadata": {},
   "source": [
    "**(Semester 2, 2020)**\n",
    "\n",
    "In this ipython notebook, we provide some example code for assignment1.\n",
    "+ Load Data.\n",
    "    - ORL dataset. \n",
    "    - Extended YaleB dataset. \n",
    "    - AR dataset (**optional**).\n",
    "+ Perform Evaluation. \n",
    "   - Relative Reconstruction Errors.\n",
    "   - Accuracy, NMI (**optional**).\n",
    "\n",
    "Lecturer: Tongliang Liu.\n",
    "\n",
    "Tutors: Nicholas James, Songhua Wu, Xuefeng Li, Yu Yao.\n",
    "\n",
    "**Note: All datasets can be used only for this assignment and you are not allowed to distribute these datasets. If you want to use AR dataset, you need to apply it by yourself (we do not provide AR dataset due to the problem of license, please find more details in http://www2.ece.ohio-state.edu/~aleix/ARdatabase.html).**"
   ]
  },
  {
   "cell_type": "markdown",
   "metadata": {},
   "source": [
    "## 0. Load Modules"
   ]
  },
  {
   "cell_type": "code",
   "execution_count": 19,
   "metadata": {},
   "outputs": [
    {
     "name": "stderr",
     "output_type": "stream",
     "text": [
      "UsageError: Line magic function `%install_ext` not found.\n"
     ]
    }
   ],
   "source": [
    "# autoreload for modules\n",
    "%load_ext autoreload\n",
    "%autoreload 2\n",
    "\n",
    "# Define your functions in organised individual python files. Don't throw them randomly in the notebook\n",
    "\n",
    "## Import image processing modules\n",
    "import os\n",
    "import numpy as np\n",
    "import pandas as pd # Used for simpler processing of data\n",
    "import matplotlib.pyplot as plt\n",
    "from PIL import Image\n",
    "\n",
    "from utils.misc import load_data, load_data_AR\n",
    "\n",
    "## Import Algorithms\n",
    "from algs import NmfHyperEstimator, NmfL2Estimator\n",
    "\n",
    "#Import preprocessing\n",
    "from preprocessing import SaltNPepper, ImageNormalizer"
   ]
  },
  {
   "cell_type": "markdown",
   "metadata": {},
   "source": [
    "## 1. Load Dataset\n",
    "\n",
    "### 1.0 Data Folder"
   ]
  },
  {
   "cell_type": "code",
   "execution_count": 2,
   "metadata": {
    "scrolled": true
   },
   "outputs": [
    {
     "name": "stdout",
     "output_type": "stream",
     "text": [
      "total 0\n",
      "drwxr-xr-x 41 Dovermore staff 1312 Oct  6 14:04 CroppedYaleB\n",
      "drwxr-xr-x 44 Dovermore staff 1408 Oct  6 14:04 ORL\n"
     ]
    }
   ],
   "source": [
    "# The structure of data folder.\n",
    "!ls -l data"
   ]
  },
  {
   "cell_type": "raw",
   "metadata": {},
   "source": [
    "# Tree structure of data folder.\n",
    "├── CroppedAR\n",
    "    ├── M-001-01.bmp\n",
    "    ├── M-001-01.txt\n",
    "    ├── M-001-02.bmp\n",
    "    ├── M-001-02.txt\n",
    "    ├── ...\n",
    "├── CroppedYaleB\n",
    "│   ├── yaleB01\n",
    "│   ├── yaleB02\n",
    "│   ...\n",
    "│   ├── yaleB38\n",
    "│   └── yaleB39\n",
    "└── ORL\n",
    "    ├── s1\n",
    "    ├── s2\n",
    "    ├── s3\n",
    "    ├── ...\n",
    "    ├── s40"
   ]
  },
  {
   "cell_type": "markdown",
   "metadata": {},
   "source": [
    "### 1.1 Load ORL Dataset and Extended YaleB Dataset.\n",
    "+ ORL dataset contains ten different images of each of 40 distinct subjects. For some subjects, the images were taken at different times, varying the lighting, facial expressions (open / closed eyes, smiling / not smiling) and facial details (glasses / no glasses). All the images were taken against a dark homogeneous background with the subjects in an upright, frontal position (with tolerance for some side movement). The size of each image is 92x112 pixels, with 256 grey levels per pixel. To further reduce the computation complexity, you can resize all images to 30x37 pixels.\n",
    "\n",
    "+ Extended YaleB dataset contains 2414 images of 38 human subjects under 9 poses and 64 illumination conditions. All images are manually aligned, cropped, and then resized to 168x192 pixels. To further reduce the computation complexity, you can resize all images to 42x48 pixels."
   ]
  },
  {
   "cell_type": "code",
   "execution_count": 3,
   "metadata": {
    "scrolled": true
   },
   "outputs": [
    {
     "name": "stdout",
     "output_type": "stream",
     "text": [
      "ORL dataset: X.shape = (2576, 400), Y.shape = (400,)\n",
      "Extended YalB dataset: X.shape = (2016, 2414), Y.shape = (2414,)\n"
     ]
    }
   ],
   "source": [
    "# Load ORL dataset.\n",
    "X_orl, Y_orl = load_data(root='data/ORL', reduce=2)\n",
    "print('ORL dataset: X.shape = {}, Y.shape = {}'.format(X_orl.shape, Y_orl.shape))\n",
    "\n",
    "# Load Extended YaleB dataset.\n",
    "X_yaleb, Y_yaleb = load_data(root='data/CroppedYaleB', reduce=4)\n",
    "print('Extended YalB dataset: X.shape = {}, Y.shape = {}'.format(X_yaleb.shape, Y_yaleb.shape))"
   ]
  },
  {
   "cell_type": "markdown",
   "metadata": {},
   "source": [
    "### 1.2 Load AR Dataset (Optional) \n",
    "AR dataset contains 2600 images of 100 individuals (50 male and 50 female). All images have been cropped and resized to 120x165 pixels. To further reduce the computation complexity, you can resize all images to 40x55 pixels."
   ]
  },
  {
   "cell_type": "code",
   "execution_count": 4,
   "metadata": {
    "scrolled": true
   },
   "outputs": [],
   "source": [
    "# X, Y = load_data_AR(root='data/CroppedAR', reduce=3)\n",
    "# print('AR dataset: X.shape = {}, Y.shape = {}'.format(X.shape, Y.shape))"
   ]
  },
  {
   "cell_type": "markdown",
   "metadata": {},
   "source": [
    "## 2. Evaluation Metrics\n",
    "\n",
    "\n",
    "### 2.1 Relative Reconstruction Errors (RRE)\n",
    "\n",
    "To compare the robustness of different NMF algorithms, you can use the ```relative reconstruction errors```. Let $V$ denote the contaminated dataset (by adding noise), and $\\hat{V}$\n",
    " denote the clean dataset. Let $W$ and $H$ denote the factorization results on $V$, the ``relative reconstruction errors`` then can be defined as follows:\n",
    " \\begin{equation}\n",
    "    RRE = \\frac{ \\| \\hat{V} - WH \\|_F }{ \\| \\hat{V} \\|_F}.\n",
    "\\end{equation}\n"
   ]
  },
  {
   "cell_type": "code",
   "execution_count": 5,
   "metadata": {},
   "outputs": [
    {
     "name": "stdout",
     "output_type": "stream",
     "text": [
      "==> Load ORL dataset ...\n",
      "V_hat.shape=(1110, 400), Y_hat.shape=(400,)\n"
     ]
    }
   ],
   "source": [
    "# Load dataset.\n",
    "print('==> Load ORL dataset ...')\n",
    "V_hat, Y_hat = load_data('data/ORL', reduce=3)\n",
    "print('V_hat.shape={}, Y_hat.shape={}'.format(V_hat.shape, Y_hat.shape))\n",
    "\n",
    "##############Uncomment the following 2 lines to normalise the data#################\n",
    "#data = preprocess(V_hat)\n",
    "#V_hat = data.normalise()\n",
    "#print('V_hat.shape={}, Y_hat.shape={}'.format(V_hat.shape, Y_hat.shape))\n",
    "\n",
    "# Add Noise.\n",
    "#V_noise = np.random.rand(*V_hat.shape) * 40\n",
    "#V = V_hat + V_noise\n",
    "#noise2 = noise(image=V_hat, p=0.2, r=0.3)\n",
    "#V = noise2.add_snp()\n",
    "\n",
    "# Plot result.\n",
    "#img_size = [i//3 for i in (92, 112)] # ORL\n",
    "#ind = 2 # index of demo image.\n",
    "#plt.figure(figsize=(10,3))\n",
    "#plt.subplot(131)\n",
    "#plt.imshow(V_hat[:,ind].reshape(img_size[1],img_size[0]), cmap=plt.cm.gray)\n",
    "#plt.title('Image(Original)')\n",
    "#plt.subplot(132)\n",
    "#plt.imshow(V_noise[:,ind].reshape(img_size[1],img_size[0]), cmap=plt.cm.gray)\n",
    "#plt.title('Noise')\n",
    "#plt.subplot(133)\n",
    "#plt.imshow(V[:,ind].reshape(img_size[1],img_size[0]), cmap=plt.cm.gray)\n",
    "#plt.title('Image(Noise) p = 0.2 r=0.3')\n",
    "#plt.show()"
   ]
  },
  {
   "cell_type": "markdown",
   "metadata": {},
   "source": [
    "### 2.2 Evaluate Clustering Performance\n",
    "\n",
    "1. Accuracy.\n",
    "    \n",
    "    $$ Acc(Y, Y_{pred}) = \\frac{1}{n}\\sum\\limits_{i=1}^n 1\\{Y_{pred}(i) == Y(i)\\}$$\n",
    "        \n",
    "2. Normalized Mutual Information (NMI).\n",
    "\n",
    "    $$ NMI(Y, Y_{pred}) = \\frac{2 * I(Y, Y_{pred})}{H(Y) + H(Y_{pred})} $$\n",
    "    \n",
    "   where $ I(\\cdot,\\cdot) $ is mutual information and $ H(\\cdot) $ is entropy."
   ]
  },
  {
   "cell_type": "code",
   "execution_count": 14,
   "metadata": {},
   "outputs": [],
   "source": [
    "from collections import Counter\n",
    "from sklearn.cluster import KMeans\n",
    "from sklearn.metrics import accuracy_score\n",
    "from sklearn.metrics import normalized_mutual_info_score\n",
    "\n",
    "def assign_cluster_label(X, Y):\n",
    "    kmeans = KMeans(n_clusters=len(set(Y))).fit(X)\n",
    "    Y_pred = np.zeros(Y.shape)\n",
    "    for i in set(kmeans.labels_):\n",
    "        ind = kmeans.labels_ == i\n",
    "        Y_pred[ind] = Counter(Y[ind]).most_common(1)[0][0] # assign label.\n",
    "    return Y_pred\n"
   ]
  },
  {
   "cell_type": "code",
   "execution_count": 15,
   "metadata": {},
   "outputs": [],
   "source": [
    "from sklearn.decomposition import NMF\n",
    "\n",
    "\n",
    "# Transpose X for correct shape\n",
    "class ModifiedNMF:\n",
    "    def __init__(self, *args, **kwargs):\n",
    "        self.nmf = NMF(*args, **kwargs)\n",
    "    \n",
    "    def fit(self, X, *args, **kwargs):\n",
    "        X = X.T\n",
    "        self.nmf.fit(X, *args, **kwargs)\n",
    "        return self\n",
    "    \n",
    "    def transform(self, X, *args, **kwargs):\n",
    "        X = X.T\n",
    "        return self.nmf.transform(X, *args, **kwargs).T\n",
    "    \n",
    "    def fit_transform(self, X, *args, **kwargs):\n",
    "        X = X.T\n",
    "        return self.nmf.fit_transform(X, *args, **kwargs).T\n",
    "    \n",
    "    @property\n",
    "    def components_(self):\n",
    "        return self.nmf.components_.T"
   ]
  },
  {
   "cell_type": "code",
   "execution_count": null,
   "metadata": {},
   "outputs": [
    {
     "name": "stdout",
     "output_type": "stream",
     "text": [
      "Noise: {'noise_id': 0, 'noise_level': 0.1, 'ratio': 0.0}\n",
      "    Trail: 0\n",
      "        Alg: ModifiedNMF {}\n",
      "        Alg: NmfL2Estimator {}\n",
      "        Alg: NmfHyperEstimator {'max_armijo': 0, 'alpha0': 0.3, 'beta0': 0.5}\n",
      "    Trail: 1\n",
      "        Alg: ModifiedNMF {}\n",
      "        Alg: NmfL2Estimator {}\n"
     ]
    }
   ],
   "source": [
    "import textwrap\n",
    "\n",
    "\n",
    "def indent(text, amount, ch=' '):\n",
    "        return textwrap.indent(text, amount * ch)\n",
    "\n",
    "\n",
    "def rre_score(model, X, Y, Y_pred, W, H):\n",
    "    return np.linalg.norm(X - W.dot(H)) / np.linalg.norm(X)\n",
    "\n",
    "\n",
    "def acc_score(model, X, Y, Y_pred, W, H):\n",
    "    return accuracy_score(Y, Y_pred)\n",
    "\n",
    "\n",
    "def nmi_score(model, X, Y, Y_pred, W, H):\n",
    "    return normalized_mutual_info_score(Y, Y_pred)\n",
    "\n",
    "\n",
    "def benchmark(X, Y, \n",
    "              alg_kwargs_pairs, all_n_components, # algs configs\n",
    "              noise_levels, ratios, # salt and pepper configs\n",
    "              metrics, metrics_names=None, # evaluations\n",
    "              n_trials=5, pc_sample=0.9): # sampling configs\n",
    "    \"\"\"Benchmark algs and output long form evaluation results\"\"\"\n",
    "    # Prepare column names in data frame\n",
    "    if metrics_names is None:\n",
    "        metrics_names = [m.__name__ for m in metrics]\n",
    "    \n",
    "    evaluations = pd.DataFrame(columns = \n",
    "                               [\"alg\", \"n_components\", \"kwargs\", \"noise_id\", \"noise_level\", \n",
    "                                \"ratio\", \"trial_id\"] + metrics_names)\n",
    "    if isinstance(all_n_components, int):\n",
    "        all_n_components = [all_n_components]\n",
    "        \n",
    "    # Prepare training data\n",
    "    noises = []\n",
    "    for i, (nl, r) in enumerate([[nl, r] for r in ratios for nl in noise_levels]):\n",
    "        noise = SaltNPepper(p=nl, r=r)\n",
    "        noises.append([noise, {\"noise_id\": i, \"noise_level\": nl, \"ratio\": r}])\n",
    "        \n",
    "    subset_idxs = []\n",
    "    for n in range(n_trials):\n",
    "        subset_idxs.append(np.random.choice(range(X.shape[1]), size=int(0.9 * X.shape[1]), replace=False))\n",
    "        \n",
    "    for noise, noise_kwargs in noises:\n",
    "        # Noise outer loop to keep it consistent between runs\n",
    "        X_noise = noise.fit_transform(X)\n",
    "        print(indent(\"Noise: \" + str(noise_kwargs), 0))\n",
    "        for i, subset_idx in enumerate(subset_idxs):\n",
    "            print(indent(\"Trail: \" + str(i), 4))\n",
    "            X_subset = X_noise[:, subset_idx]\n",
    "            Y_subset = Y[subset_idx]\n",
    "            for alg in alg_kwargs_pairs:\n",
    "                # Separate kwargs if additional kwargs are provided\n",
    "                try:\n",
    "                    if len(alg) == 2:\n",
    "                        alg, alg_kwargs = alg\n",
    "                except:\n",
    "                    alg_kwargs = {}\n",
    "                    \n",
    "                print(indent(\"Alg: \" + alg.__name__ + \" \" + str(alg_kwargs), 8))\n",
    "                for k in all_n_components:\n",
    "                    row = {**noise_kwargs}\n",
    "                    row.update(\n",
    "                        {\"alg\": alg.__name__, \"n_components\": k, \"kwargs\": alg_kwargs, \"trial_id\": i})\n",
    "                    model = alg(n_components=k, **alg_kwargs)\n",
    "                    H = model.fit_transform(X_subset)\n",
    "                    W = model.components_\n",
    "                    # print(model.__class__, \"W\", W.shape, \"H\", H.shape)\n",
    "                    # Y_pred = assign_cluster_label(H.T, Y_subset)\n",
    "                    Y_pred = assign_cluster_label(H.T, Y_subset)\n",
    "                    \n",
    "                    for metric, name in zip(metrics, metrics_names):\n",
    "                        row[name] = metric(model, X_subset, Y_subset, Y_pred, W, H)\n",
    "                    evaluations = evaluations.append(row, ignore_index=True)\n",
    "    return evaluations\n",
    "\n",
    "\n",
    "X, Y = X_orl, Y_orl\n",
    "alg_kwargs_pairs = [\n",
    "    ModifiedNMF, \n",
    "    NmfL2Estimator, \n",
    "    [NmfHyperEstimator, {\"max_armijo\": 0, \"alpha0\": 0.3, \"beta0\": 0.5}] # disable armijo search\n",
    "]\n",
    "all_n_components = range(10, 50, 20)\n",
    "noise_levels = np.arange(0.1, 0.5, 0.1)\n",
    "ratios = np.arange(0.0, 1, 0.5)\n",
    "metrics = [rre_score, acc_score, nmi_score]\n",
    "metrics_names = [\"rre\", \"acc_score\", \"nmi_score\"]\n",
    "n_trials = 3\n",
    "pc_sample = 0.4\n",
    "\n",
    "\n",
    "\n",
    "evaluations = benchmark(X_orl, Y_orl,\n",
    "                        alg_kwargs_pairs, all_n_components,\n",
    "                        noise_levels, ratios,\n",
    "                        metrics, metrics_names,\n",
    "                        n_trials, pc_sample\n",
    "                       )"
   ]
  },
  {
   "cell_type": "code",
   "execution_count": 37,
   "metadata": {},
   "outputs": [
    {
     "ename": "TypeError",
     "evalue": "'SaltNPepper' object is not callable",
     "output_type": "error",
     "traceback": [
      "\u001b[0;31m---------------------------------------------------------------------------\u001b[0m",
      "\u001b[0;31mTypeError\u001b[0m                                 Traceback (most recent call last)",
      "\u001b[0;32m<ipython-input-37-65500f981350>\u001b[0m in \u001b[0;36m<module>\u001b[0;34m\u001b[0m\n\u001b[1;32m     47\u001b[0m \u001b[0;34m\u001b[0m\u001b[0m\n\u001b[1;32m     48\u001b[0m         \u001b[0;31m#Adding noise to the data for testing\u001b[0m\u001b[0;34m\u001b[0m\u001b[0;34m\u001b[0m\u001b[0;34m\u001b[0m\u001b[0m\n\u001b[0;32m---> 49\u001b[0;31m         \u001b[0mnoiseObj\u001b[0m \u001b[0;34m=\u001b[0m \u001b[0mnoise\u001b[0m\u001b[0;34m(\u001b[0m\u001b[0mimage\u001b[0m\u001b[0;34m=\u001b[0m\u001b[0mV_hat_smaller\u001b[0m\u001b[0;34m,\u001b[0m \u001b[0mp\u001b[0m\u001b[0;34m=\u001b[0m\u001b[0mi\u001b[0m\u001b[0;34m,\u001b[0m \u001b[0mr\u001b[0m\u001b[0;34m=\u001b[0m\u001b[0;36m0.3\u001b[0m\u001b[0;34m)\u001b[0m\u001b[0;34m\u001b[0m\u001b[0;34m\u001b[0m\u001b[0m\n\u001b[0m\u001b[1;32m     50\u001b[0m         \u001b[0mV\u001b[0m \u001b[0;34m=\u001b[0m \u001b[0mnoiseObj\u001b[0m\u001b[0;34m.\u001b[0m\u001b[0madd_snp\u001b[0m\u001b[0;34m(\u001b[0m\u001b[0;34m)\u001b[0m\u001b[0;34m\u001b[0m\u001b[0;34m\u001b[0m\u001b[0m\n\u001b[1;32m     51\u001b[0m \u001b[0;34m\u001b[0m\u001b[0m\n",
      "\u001b[0;31mTypeError\u001b[0m: 'SaltNPepper' object is not callable"
     ]
    }
   ],
   "source": [
    "from sklearn.decomposition import NMF\n",
    "from sklearn.model_selection import train_test_split\n",
    "from sklearn.model_selection import cross_val_score\n",
    "\n",
    "#Calculating RRE with noisy data\n",
    "n = V_hat.shape[1]\n",
    "arr = np.arange(n)\n",
    "\n",
    "noise_levels = np.arange(0, 1, 0.2)\n",
    "\n",
    "RRE_nmf_mean = []\n",
    "RRE_nmf_std = []\n",
    "acc_nmf_mean = []\n",
    "acc_nmf_std = []\n",
    "nmi_nmf_mean = []\n",
    "nmi_nmf_std = []\n",
    "RRE_L2_mean = []\n",
    "RRE_L2_std = []\n",
    "acc_L2_mean = []\n",
    "acc_L2_std = []\n",
    "nmi_L2_mean = []\n",
    "nmi_L2_std = []\n",
    "RRE_hyper_mean = []\n",
    "RRE_hyper_std = []\n",
    "acc_hyper_mean = []\n",
    "acc_hyper_std = []\n",
    "nmi_hyper_mean = []\n",
    "nmi_hyper_std = []\n",
    "\n",
    "for i in noise_levels:\n",
    "    rre_nmf_list = np.empty(5)\n",
    "    acc_nmf_list = np.empty(5)\n",
    "    nmi_nmf_list = np.empty(5)\n",
    "    rre_L2_list = np.empty(5)\n",
    "    acc_L2_list = np.empty(5)\n",
    "    nmi_L2_list = np.empty(5)\n",
    "    rre_hyper_list = np.empty(5)\n",
    "    acc_hyper_list = np.empty(5)\n",
    "    nmi_hyper_list = np.empty(5)    \n",
    "    \n",
    "    for j in range(5):\n",
    "\n",
    "        np.random.shuffle(arr)                #Shuffling the dataset\n",
    "        ntr = int(0.9*n)                      #Taking only 90% from the shuffled data\n",
    "        V_hat_smaller = V_hat.T[arr[:ntr]].T\n",
    "        Y_hat_smaller = Y_hat[arr[:ntr]]\n",
    "        \n",
    "        #Adding noise to the data for testing\n",
    "        noiseObj = noise(image=V_hat_smaller, p=i, r=0.3)\n",
    "        V = noiseObj.add_snp()\n",
    "\n",
    "        #Evaluating NMF from sklearn\n",
    "        print(\"Iteration number:\", i, j)\n",
    "        print('==> Apply NMF ...')\n",
    "        model = NMF(n_components=len(set(Y_hat_smaller))) # set n_components to num_classes.\n",
    "        W = model.fit_transform(V)\n",
    "        H = model.components_\n",
    "        #print('W.shape={}, H.shape={}'.format(W.shape, H.shape))\n",
    "        #Evaluate relative reconstruction errors.\n",
    "        #print('==> Evaluate RRE ...')\n",
    "        RRE = np.linalg.norm(V_hat_smaller - W.dot(H)) / np.linalg.norm(V_hat_smaller)\n",
    "        #print('RRE = {}'.format(RRE))\n",
    "        #print('==> Evaluate Acc and NMI for NMF ...')\n",
    "        # Assign cluster labels.\n",
    "        Y_pred = assign_cluster_label(H.T, Y_hat_smaller)\n",
    "        acc = accuracy_score(Y_hat_smaller, Y_pred)*100\n",
    "        nmi = normalized_mutual_info_score(Y_hat_smaller, Y_pred)*100\n",
    "        print('Acc(NMI) = {:.4f} ({:.4f})'.format(acc, nmi))\n",
    "        rre_nmf_list[j] = RRE\n",
    "        acc_nmf_list[j] = acc\n",
    "        nmi_nmf_list[j] = nmi\n",
    "\n",
    "        #Evaluating NmfL2\n",
    "        print('==> Apply NmfL2 ...')\n",
    "        model = NmfL2Estimator(n_components=len(set(Y_hat_smaller))) # set n_components to num_classes.\n",
    "        W = model.fit_transform(V)\n",
    "        H = model.components_\n",
    "        # Evaluate relative reconstruction errors.\n",
    "        #print('==> Evaluate RRE ...')\n",
    "        RRE = np.linalg.norm(V_hat_smaller - W.dot(H)) / np.linalg.norm(V_hat_smaller)\n",
    "        # Assign cluster labels.\n",
    "        Y_pred = assign_cluster_label(H.T, Y_hat_smaller)\n",
    "        acc = accuracy_score(Y_hat_smaller, Y_pred)*100\n",
    "        nmi = normalized_mutual_info_score(Y_hat_smaller, Y_pred)*100\n",
    "        print('Acc(NMI) = {:.4f} ({:.4f})'.format(acc, nmi))\n",
    "        rre_L2_list[j] = RRE\n",
    "        acc_L2_list[j] = acc\n",
    "        nmi_L2_list[j] = nmi        \n",
    "\n",
    "        #Evaluate NmfHyper\n",
    "        print('==> Apply NmfHyper ...')\n",
    "        model = NmfHyperEstimator(n_components=len(set(Y_hat_smaller))) # set n_components to num_classes.\n",
    "        W = model.fit_transform(V)\n",
    "        H = model.components_\n",
    "        # Evaluate relative reconstruction errors.\n",
    "        RRE = np.linalg.norm(V_hat_smaller - W.dot(H)) / np.linalg.norm(V_hat_smaller)\n",
    "        # Assign cluster labels.\n",
    "        Y_pred = assign_cluster_label(H.T, Y_hat_smaller)\n",
    "        acc = accuracy_score(Y_hat_smaller, Y_pred)*100\n",
    "        nmi = normalized_mutual_info_score(Y_hat_smaller, Y_pred)*100\n",
    "        print('Acc(NMI) = {:.4f} ({:.4f})'.format(acc, nmi))\n",
    "        rre_hyper_list[j] = RRE\n",
    "        acc_hyper_list[j] = acc\n",
    "        nmi_hyper_list[j] = nmi        \n",
    "        \n",
    "    RRE_nmf_mean.append(np.mean(rre_nmf_list))\n",
    "    RRE_nmf_std.append(np.std(rre_nmf_list))\n",
    "    acc_nmf_mean.append(np.mean(acc_nmf_list))\n",
    "    acc_nmf_std.append(np.std(acc_nmf_list))\n",
    "    nmi_nmf_mean.append(np.mean(nmi_nmf_list))\n",
    "    nmi_nmf_std.append(np.std(nmi_nmf_list))\n",
    "\n",
    "    RRE_L2_mean.append(np.mean(rre_L2_list))\n",
    "    RRE_L2_std.append(np.std(rre_L2_list))\n",
    "    acc_L2_mean.append(np.mean(acc_L2_list))\n",
    "    acc_L2_std.append(np.std(acc_L2_list))\n",
    "    nmi_L2_mean.append(np.mean(nmi_L2_list))\n",
    "    nmi_L2_std.append(np.std(nmi_L2_list)) \n",
    "    \n",
    "    RRE_hyper_mean.append(np.mean(rre_hyper_list))\n",
    "    RRE_hyper_std.append(np.std(rre_hyper_list))\n",
    "    acc_hyper_mean.append(np.mean(acc_hyper_list))\n",
    "    acc_hyper_std.append(np.std(acc_hyper_list))\n",
    "    nmi_hyper_mean.append(np.mean(nmi_hyper_list))\n",
    "    nmi_hyper_std.append(np.std(nmi_hyper_list)) "
   ]
  },
  {
   "cell_type": "code",
   "execution_count": 82,
   "metadata": {},
   "outputs": [
    {
     "name": "stdout",
     "output_type": "stream",
     "text": [
      "[0.0, 20.0, 40.0, 60.00000000000001, 80.0]\n"
     ]
    },
    {
     "data": {
      "image/png": "[encoded data removed]",
      "text/plain": [
       "<Figure size 720x360 with 2 Axes>"
      ]
     },
     "metadata": {
      "needs_background": "light"
     },
     "output_type": "display_data"
    }
   ],
   "source": [
    "import matplotlib.pyplot as plt\n",
    "\n",
    "noise_levels = np.arange(0, 1, 0.2)\n",
    "noise_levels_mod = (noise_levels * 100).tolist()\n",
    "print(noise_levels_mod)\n",
    "\n",
    "fig, axes = plt.subplots(1, 2, figsize=(10, 5))\n",
    "axes[0].plot(noise_levels_mod, acc_nmf_mean, color='blue')\n",
    "axes[0].plot(noise_levels_mod, acc_L2_mean, color='red')\n",
    "axes[0].plot(noise_levels_mod, acc_hyper_mean, color='green')\n",
    "axes[1].plot(noise_levels_mod, nmi_nmf_mean, color='blue')\n",
    "axes[1].plot(noise_levels_mod, nmi_L2_mean, color='red')\n",
    "axes[1].plot(noise_levels_mod, nmi_hyper_mean, color='green')\n",
    "\n",
    "axes[0].set_xlabel(\"% of pixels containing Noise\")\n",
    "axes[0].set_ylabel(\"Accuracy in %\")\n",
    "axes[0].set_title(\"Accuracy Vs noise\")\n",
    "axes[1].set_xlabel(\"% of pixels containing Noise\")\n",
    "axes[1].set_ylabel(\"Normalised Mutual Informatio in %\")\n",
    "axes[1].set_title(\"Normalised Mutual Information Vs noise\")\n",
    "plt.show()"
   ]
  },
  {
   "cell_type": "code",
   "execution_count": null,
   "metadata": {},
   "outputs": [],
   "source": []
  }
 ],
 "metadata": {
  "kernelspec": {
   "display_name": "Python 3",
   "language": "python",
   "name": "python3"
  },
  "language_info": {
   "codemirror_mode": {
    "name": "ipython",
    "version": 3
   },
   "file_extension": ".py",
   "mimetype": "text/x-python",
   "name": "python",
   "nbconvert_exporter": "python",
   "pygments_lexer": "ipython3",
   "version": "3.7.6"
  }
 },
 "nbformat": 4,
 "nbformat_minor": 4
}
