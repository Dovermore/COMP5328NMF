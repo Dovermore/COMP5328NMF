{
 "cells": [
  {
   "cell_type": "markdown",
   "metadata": {},
   "source": [
    "## COMP5328 - Advanced Machine Learning\n",
    "## Assignment 1: Non-negative Matrix Factorization\n",
    "----------------------------------------------------------------------------------------"
   ]
  },
  {
   "cell_type": "markdown",
   "metadata": {},
   "source": [
    "**(Semester 2, 2020)**\n",
    "\n",
    "In this ipython notebook, we provide some example code for assignment1.\n",
    "+ Load Data.\n",
    "    - ORL dataset. \n",
    "    - Extended YaleB dataset. \n",
    "    - AR dataset (**optional**).\n",
    "+ Perform Evaluation. \n",
    "   - Relative Reconstruction Errors.\n",
    "   - Accuracy, NMI (**optional**).\n",
    "\n",
    "Lecturer: Tongliang Liu.\n",
    "\n",
    "Tutors: Nicholas James, Songhua Wu, Xuefeng Li, Yu Yao.\n",
    "\n",
    "**Note: All datasets can be used only for this assignment and you are not allowed to distribute these datasets. If you want to use AR dataset, you need to apply it by yourself (we do not provide AR dataset due to the problem of license, please find more details in http://www2.ece.ohio-state.edu/~aleix/ARdatabase.html).**"
   ]
  },
  {
   "cell_type": "markdown",
   "metadata": {},
   "source": [
    "## 0. Load Modules"
   ]
  },
  {
   "cell_type": "code",
   "execution_count": 84,
   "metadata": {},
   "outputs": [
    {
     "name": "stdout",
     "output_type": "stream",
     "text": [
      "The autoreload extension is already loaded. To reload it, use:\n",
      "  %reload_ext autoreload\n"
     ]
    }
   ],
   "source": [
    "# autoreload for modules\n",
    "%load_ext autoreload\n",
    "%autoreload 2\n",
    "\n",
    "# Define your functions in organised individual python files. Don't throw them randomly in the notebook\n",
    "\n",
    "## Import image processing modules\n",
    "import os\n",
    "import numpy as np\n",
    "import matplotlib.pyplot as plt\n",
    "from PIL import Image\n",
    "os.chdir(\"C:\\\\Users\\\\debadutta\\\\Documents\\\\GitHub\\\\COMP5328NMF\\src\")\n",
    "\n",
    "from utils.misc import load_data, load_data_AR\n",
    "\n",
    "## Import Algorithms\n",
    "from algs import NmfHyperEstimator, NmfL2Estimator\n",
    "\n",
    "#Import preprocessing\n",
    "from preprocessing import noise, preprocess"
   ]
  },
  {
   "cell_type": "markdown",
   "metadata": {},
   "source": [
    "## 1. Load Dataset\n",
    "\n",
    "### 1.0 Data Folder"
   ]
  },
  {
   "cell_type": "code",
   "execution_count": 2,
   "metadata": {
    "scrolled": true
   },
   "outputs": [
    {
     "name": "stderr",
     "output_type": "stream",
     "text": [
      "'ls' is not recognized as an internal or external command,\n",
      "operable program or batch file.\n"
     ]
    }
   ],
   "source": [
    "# The structure of data folder.\n",
    "!ls -l data"
   ]
  },
  {
   "cell_type": "raw",
   "metadata": {},
   "source": [
    "# Tree structure of data folder.\n",
    "├── CroppedAR\n",
    "    ├── M-001-01.bmp\n",
    "    ├── M-001-01.txt\n",
    "    ├── M-001-02.bmp\n",
    "    ├── M-001-02.txt\n",
    "    ├── ...\n",
    "├── CroppedYaleB\n",
    "│   ├── yaleB01\n",
    "│   ├── yaleB02\n",
    "│   ...\n",
    "│   ├── yaleB38\n",
    "│   └── yaleB39\n",
    "└── ORL\n",
    "    ├── s1\n",
    "    ├── s2\n",
    "    ├── s3\n",
    "    ├── ...\n",
    "    ├── s40"
   ]
  },
  {
   "cell_type": "markdown",
   "metadata": {},
   "source": [
    "### 1.1 Load ORL Dataset and Extended YaleB Dataset.\n",
    "+ ORL dataset contains ten different images of each of 40 distinct subjects. For some subjects, the images were taken at different times, varying the lighting, facial expressions (open / closed eyes, smiling / not smiling) and facial details (glasses / no glasses). All the images were taken against a dark homogeneous background with the subjects in an upright, frontal position (with tolerance for some side movement). The size of each image is 92x112 pixels, with 256 grey levels per pixel. To further reduce the computation complexity, you can resize all images to 30x37 pixels.\n",
    "\n",
    "+ Extended YaleB dataset contains 2414 images of 38 human subjects under 9 poses and 64 illumination conditions. All images are manually aligned, cropped, and then resized to 168x192 pixels. To further reduce the computation complexity, you can resize all images to 42x48 pixels."
   ]
  },
  {
   "cell_type": "code",
   "execution_count": 3,
   "metadata": {
    "scrolled": true
   },
   "outputs": [
    {
     "name": "stdout",
     "output_type": "stream",
     "text": [
      "ORL dataset: X.shape = (2576, 400), Y.shape = (400,)\n",
      "Extended YalB dataset: X.shape = (2016, 2414), Y.shape = (2414,)\n"
     ]
    }
   ],
   "source": [
    "# Load ORL dataset.\n",
    "X, Y = load_data(root='data/ORL', reduce=2)\n",
    "print('ORL dataset: X.shape = {}, Y.shape = {}'.format(X.shape, Y.shape))\n",
    "\n",
    "# Load Extended YaleB dataset.\n",
    "X, Y = load_data(root='data/CroppedYaleB', reduce=4)\n",
    "print('Extended YalB dataset: X.shape = {}, Y.shape = {}'.format(X.shape, Y.shape))"
   ]
  },
  {
   "cell_type": "markdown",
   "metadata": {},
   "source": [
    "### 1.2 Load AR Dataset (Optional) \n",
    "AR dataset contains 2600 images of 100 individuals (50 male and 50 female). All images have been cropped and resized to 120x165 pixels. To further reduce the computation complexity, you can resize all images to 40x55 pixels."
   ]
  },
  {
   "cell_type": "code",
   "execution_count": 4,
   "metadata": {
    "scrolled": true
   },
   "outputs": [],
   "source": [
    "# X, Y = load_data_AR(root='data/CroppedAR', reduce=3)\n",
    "# print('AR dataset: X.shape = {}, Y.shape = {}'.format(X.shape, Y.shape))"
   ]
  },
  {
   "cell_type": "markdown",
   "metadata": {},
   "source": [
    "## 2. Evaluation Metrics\n",
    "\n",
    "\n",
    "### 2.1 Relative Reconstruction Errors (RRE)\n",
    "\n",
    "To compare the robustness of different NMF algorithms, you can use the ```relative reconstruction errors```. Let $V$ denote the contaminated dataset (by adding noise), and $\\hat{V}$\n",
    " denote the clean dataset. Let $W$ and $H$ denote the factorization results on $V$, the ``relative reconstruction errors`` then can be defined as follows:\n",
    " \\begin{equation}\n",
    "    RRE = \\frac{ \\| \\hat{V} - WH \\|_F }{ \\| \\hat{V} \\|_F}.\n",
    "\\end{equation}\n"
   ]
  },
  {
   "cell_type": "code",
   "execution_count": 88,
   "metadata": {},
   "outputs": [
    {
     "name": "stdout",
     "output_type": "stream",
     "text": [
      "==> Load ORL dataset ...\n",
      "V_hat.shape=(1110, 400), Y_hat.shape=(400,)\n",
      "V_hat.shape=(1110, 400), Y_hat.shape=(400,)\n"
     ]
    }
   ],
   "source": [
    "# Load dataset.\n",
    "print('==> Load ORL dataset ...')\n",
    "V_hat, Y_hat = load_data('data/ORL', reduce=3)\n",
    "print('V_hat.shape={}, Y_hat.shape={}'.format(V_hat.shape, Y_hat.shape))\n",
    "\n",
    "data = preprocess(V_hat)\n",
    "V_hat = data.normalise()\n",
    "print('V_hat.shape={}, Y_hat.shape={}'.format(V_hat.shape, Y_hat.shape))\n",
    "\n",
    "# Add Noise.\n",
    "#V_noise = np.random.rand(*V_hat.shape) * 40\n",
    "#V = V_hat + V_noise\n",
    "#noise2 = noise(image=V_hat, p=0.2, r=0.3)\n",
    "#V = noise2.add_snp()\n",
    "\n",
    "#Evaluate NmfHyper\n",
    "#print('==> Apply NmfHyper ...')\n",
    "#model = NmfHyperEstimator(n_components=len(set(Y_hat))) # set n_components to num_classes.\n",
    "#W = model.fit_transform(V)\n",
    "#H = model.components_\n",
    "# Evaluate relative reconstruction errors.\n",
    "#RRE = np.linalg.norm(V_hat - W.dot(H)) / np.linalg.norm(V_hat)\n",
    "# Assign cluster labels.\n",
    "#Y_pred = assign_cluster_label(H.T, Y_hat)\n",
    "#acc = accuracy_score(Y_hat, Y_pred)\n",
    "#nmi = normalized_mutual_info_score(Y_hat, Y_pred)\n",
    "#print('Acc(NMI) = {:.4f} ({:.4f})'.format(acc, nmi))\n",
    "\n",
    "# Plot result.\n",
    "#img_size = [i//3 for i in (92, 112)] # ORL\n",
    "#ind = 2 # index of demo image.\n",
    "#plt.figure(figsize=(10,3))\n",
    "#plt.subplot(131)\n",
    "#plt.imshow(V_hat[:,ind].reshape(img_size[1],img_size[0]), cmap=plt.cm.gray)\n",
    "#plt.title('Image(Original)')\n",
    "#plt.subplot(132)\n",
    "#plt.imshow(V_noise[:,ind].reshape(img_size[1],img_size[0]), cmap=plt.cm.gray)\n",
    "#plt.title('Noise')\n",
    "#plt.subplot(133)\n",
    "#plt.imshow(V[:,ind].reshape(img_size[1],img_size[0]), cmap=plt.cm.gray)\n",
    "#plt.title('Image(Noise) p = 0.2 r=0.3')\n",
    "#plt.show()"
   ]
  },
  {
   "cell_type": "markdown",
   "metadata": {},
   "source": [
    "### 2.2 Evaluate Clustering Performance\n",
    "\n",
    "1. Accuracy.\n",
    "    \n",
    "    $$ Acc(Y, Y_{pred}) = \\frac{1}{n}\\sum\\limits_{i=1}^n 1\\{Y_{pred}(i) == Y(i)\\}$$\n",
    "        \n",
    "2. Normalized Mutual Information (NMI).\n",
    "\n",
    "    $$ NMI(Y, Y_{pred}) = \\frac{2 * I(Y, Y_{pred})}{H(Y) + H(Y_{pred})} $$\n",
    "    \n",
    "   where $ I(\\cdot,\\cdot) $ is mutual information and $ H(\\cdot) $ is entropy."
   ]
  },
  {
   "cell_type": "code",
   "execution_count": 89,
   "metadata": {},
   "outputs": [],
   "source": [
    "from collections import Counter\n",
    "from sklearn.cluster import KMeans\n",
    "from sklearn.metrics import accuracy_score\n",
    "from sklearn.metrics import normalized_mutual_info_score\n",
    "\n",
    "def assign_cluster_label(X, Y):\n",
    "    kmeans = KMeans(n_clusters=len(set(Y))).fit(X)\n",
    "    Y_pred = np.zeros(Y.shape)\n",
    "    for i in set(kmeans.labels_):\n",
    "        ind = kmeans.labels_ == i\n",
    "        Y_pred[ind] = Counter(Y[ind]).most_common(1)[0][0] # assign label.\n",
    "    return Y_pred"
   ]
  },
  {
   "cell_type": "code",
   "execution_count": 90,
   "metadata": {},
   "outputs": [
    {
     "name": "stderr",
     "output_type": "stream",
     "text": [
      "C:\\Users\\debadutta\\Documents\\GitHub\\COMP5328NMF\\src\\preprocessing\\saltnpepper.py:18: FutureWarning: Using a non-tuple sequence for multidimensional indexing is deprecated; use `arr[tuple(seq)]` instead of `arr[seq]`. In the future this will be interpreted as an array index, `arr[np.array(seq)]`, which will result either in an error or a different result.\n",
      "  out[coords] = 1\n",
      "C:\\Users\\debadutta\\Documents\\GitHub\\COMP5328NMF\\src\\preprocessing\\saltnpepper.py:24: FutureWarning: Using a non-tuple sequence for multidimensional indexing is deprecated; use `arr[tuple(seq)]` instead of `arr[seq]`. In the future this will be interpreted as an array index, `arr[np.array(seq)]`, which will result either in an error or a different result.\n",
      "  out[coords] = 0\n"
     ]
    },
    {
     "name": "stdout",
     "output_type": "stream",
     "text": [
      "Iteration number: 0.0 0\n",
      "==> Apply NMF ...\n"
     ]
    },
    {
     "name": "stderr",
     "output_type": "stream",
     "text": [
      "G:\\Python\\Anaconda\\lib\\site-packages\\sklearn\\decomposition\\_nmf.py:1076: ConvergenceWarning: Maximum number of iterations 200 reached. Increase it to improve convergence.\n",
      "  warnings.warn(\"Maximum number of iterations %d reached. Increase it to\"\n"
     ]
    },
    {
     "name": "stdout",
     "output_type": "stream",
     "text": [
      "Acc(NMI) = 64.7222 (78.7486)\n",
      "==> Apply NmfL2 ...\n",
      "Acc(NMI) = 72.5000 (85.2861)\n",
      "==> Apply NmfHyper ...\n",
      "Acc(NMI) = 18.8889 (37.6043)\n",
      "Iteration number: 0.0 1\n",
      "==> Apply NMF ...\n"
     ]
    },
    {
     "name": "stderr",
     "output_type": "stream",
     "text": [
      "C:\\Users\\debadutta\\Documents\\GitHub\\COMP5328NMF\\src\\preprocessing\\saltnpepper.py:18: FutureWarning: Using a non-tuple sequence for multidimensional indexing is deprecated; use `arr[tuple(seq)]` instead of `arr[seq]`. In the future this will be interpreted as an array index, `arr[np.array(seq)]`, which will result either in an error or a different result.\n",
      "  out[coords] = 1\n",
      "C:\\Users\\debadutta\\Documents\\GitHub\\COMP5328NMF\\src\\preprocessing\\saltnpepper.py:24: FutureWarning: Using a non-tuple sequence for multidimensional indexing is deprecated; use `arr[tuple(seq)]` instead of `arr[seq]`. In the future this will be interpreted as an array index, `arr[np.array(seq)]`, which will result either in an error or a different result.\n",
      "  out[coords] = 0\n",
      "G:\\Python\\Anaconda\\lib\\site-packages\\sklearn\\decomposition\\_nmf.py:1076: ConvergenceWarning: Maximum number of iterations 200 reached. Increase it to improve convergence.\n",
      "  warnings.warn(\"Maximum number of iterations %d reached. Increase it to\"\n"
     ]
    },
    {
     "name": "stdout",
     "output_type": "stream",
     "text": [
      "Acc(NMI) = 68.0556 (82.2146)\n",
      "==> Apply NmfL2 ...\n",
      "Acc(NMI) = 78.8889 (88.3769)\n",
      "==> Apply NmfHyper ...\n",
      "Acc(NMI) = 17.5000 (36.7664)\n",
      "Iteration number: 0.0 2\n",
      "==> Apply NMF ...\n"
     ]
    },
    {
     "name": "stderr",
     "output_type": "stream",
     "text": [
      "C:\\Users\\debadutta\\Documents\\GitHub\\COMP5328NMF\\src\\preprocessing\\saltnpepper.py:18: FutureWarning: Using a non-tuple sequence for multidimensional indexing is deprecated; use `arr[tuple(seq)]` instead of `arr[seq]`. In the future this will be interpreted as an array index, `arr[np.array(seq)]`, which will result either in an error or a different result.\n",
      "  out[coords] = 1\n",
      "C:\\Users\\debadutta\\Documents\\GitHub\\COMP5328NMF\\src\\preprocessing\\saltnpepper.py:24: FutureWarning: Using a non-tuple sequence for multidimensional indexing is deprecated; use `arr[tuple(seq)]` instead of `arr[seq]`. In the future this will be interpreted as an array index, `arr[np.array(seq)]`, which will result either in an error or a different result.\n",
      "  out[coords] = 0\n",
      "G:\\Python\\Anaconda\\lib\\site-packages\\sklearn\\decomposition\\_nmf.py:1076: ConvergenceWarning: Maximum number of iterations 200 reached. Increase it to improve convergence.\n",
      "  warnings.warn(\"Maximum number of iterations %d reached. Increase it to\"\n"
     ]
    },
    {
     "name": "stdout",
     "output_type": "stream",
     "text": [
      "Acc(NMI) = 66.1111 (78.4837)\n",
      "==> Apply NmfL2 ...\n",
      "Acc(NMI) = 74.4444 (85.9474)\n",
      "==> Apply NmfHyper ...\n",
      "Acc(NMI) = 19.7222 (36.8227)\n",
      "Iteration number: 0.0 3\n",
      "==> Apply NMF ...\n"
     ]
    },
    {
     "name": "stderr",
     "output_type": "stream",
     "text": [
      "C:\\Users\\debadutta\\Documents\\GitHub\\COMP5328NMF\\src\\preprocessing\\saltnpepper.py:18: FutureWarning: Using a non-tuple sequence for multidimensional indexing is deprecated; use `arr[tuple(seq)]` instead of `arr[seq]`. In the future this will be interpreted as an array index, `arr[np.array(seq)]`, which will result either in an error or a different result.\n",
      "  out[coords] = 1\n",
      "C:\\Users\\debadutta\\Documents\\GitHub\\COMP5328NMF\\src\\preprocessing\\saltnpepper.py:24: FutureWarning: Using a non-tuple sequence for multidimensional indexing is deprecated; use `arr[tuple(seq)]` instead of `arr[seq]`. In the future this will be interpreted as an array index, `arr[np.array(seq)]`, which will result either in an error or a different result.\n",
      "  out[coords] = 0\n",
      "G:\\Python\\Anaconda\\lib\\site-packages\\sklearn\\decomposition\\_nmf.py:1076: ConvergenceWarning: Maximum number of iterations 200 reached. Increase it to improve convergence.\n",
      "  warnings.warn(\"Maximum number of iterations %d reached. Increase it to\"\n"
     ]
    },
    {
     "name": "stdout",
     "output_type": "stream",
     "text": [
      "Acc(NMI) = 72.7778 (83.4247)\n",
      "==> Apply NmfL2 ...\n",
      "Acc(NMI) = 70.5556 (84.1659)\n",
      "==> Apply NmfHyper ...\n",
      "Acc(NMI) = 18.8889 (38.0012)\n",
      "Iteration number: 0.0 4\n",
      "==> Apply NMF ...\n"
     ]
    },
    {
     "name": "stderr",
     "output_type": "stream",
     "text": [
      "C:\\Users\\debadutta\\Documents\\GitHub\\COMP5328NMF\\src\\preprocessing\\saltnpepper.py:18: FutureWarning: Using a non-tuple sequence for multidimensional indexing is deprecated; use `arr[tuple(seq)]` instead of `arr[seq]`. In the future this will be interpreted as an array index, `arr[np.array(seq)]`, which will result either in an error or a different result.\n",
      "  out[coords] = 1\n",
      "C:\\Users\\debadutta\\Documents\\GitHub\\COMP5328NMF\\src\\preprocessing\\saltnpepper.py:24: FutureWarning: Using a non-tuple sequence for multidimensional indexing is deprecated; use `arr[tuple(seq)]` instead of `arr[seq]`. In the future this will be interpreted as an array index, `arr[np.array(seq)]`, which will result either in an error or a different result.\n",
      "  out[coords] = 0\n",
      "G:\\Python\\Anaconda\\lib\\site-packages\\sklearn\\decomposition\\_nmf.py:1076: ConvergenceWarning: Maximum number of iterations 200 reached. Increase it to improve convergence.\n",
      "  warnings.warn(\"Maximum number of iterations %d reached. Increase it to\"\n"
     ]
    },
    {
     "name": "stdout",
     "output_type": "stream",
     "text": [
      "Acc(NMI) = 67.7778 (81.1811)\n",
      "==> Apply NmfL2 ...\n",
      "Acc(NMI) = 75.0000 (85.9593)\n",
      "==> Apply NmfHyper ...\n",
      "Acc(NMI) = 20.8333 (38.7749)\n",
      "Iteration number: 0.2 0\n",
      "==> Apply NMF ...\n"
     ]
    },
    {
     "name": "stderr",
     "output_type": "stream",
     "text": [
      "C:\\Users\\debadutta\\Documents\\GitHub\\COMP5328NMF\\src\\preprocessing\\saltnpepper.py:18: FutureWarning: Using a non-tuple sequence for multidimensional indexing is deprecated; use `arr[tuple(seq)]` instead of `arr[seq]`. In the future this will be interpreted as an array index, `arr[np.array(seq)]`, which will result either in an error or a different result.\n",
      "  out[coords] = 1\n",
      "C:\\Users\\debadutta\\Documents\\GitHub\\COMP5328NMF\\src\\preprocessing\\saltnpepper.py:24: FutureWarning: Using a non-tuple sequence for multidimensional indexing is deprecated; use `arr[tuple(seq)]` instead of `arr[seq]`. In the future this will be interpreted as an array index, `arr[np.array(seq)]`, which will result either in an error or a different result.\n",
      "  out[coords] = 0\n",
      "G:\\Python\\Anaconda\\lib\\site-packages\\sklearn\\decomposition\\_nmf.py:1076: ConvergenceWarning: Maximum number of iterations 200 reached. Increase it to improve convergence.\n",
      "  warnings.warn(\"Maximum number of iterations %d reached. Increase it to\"\n"
     ]
    },
    {
     "name": "stdout",
     "output_type": "stream",
     "text": [
      "Acc(NMI) = 61.1111 (75.8990)\n",
      "==> Apply NmfL2 ...\n",
      "Acc(NMI) = 54.7222 (72.7501)\n",
      "==> Apply NmfHyper ...\n",
      "Acc(NMI) = 17.7778 (34.5928)\n",
      "Iteration number: 0.2 1\n",
      "==> Apply NMF ...\n"
     ]
    },
    {
     "name": "stderr",
     "output_type": "stream",
     "text": [
      "C:\\Users\\debadutta\\Documents\\GitHub\\COMP5328NMF\\src\\preprocessing\\saltnpepper.py:18: FutureWarning: Using a non-tuple sequence for multidimensional indexing is deprecated; use `arr[tuple(seq)]` instead of `arr[seq]`. In the future this will be interpreted as an array index, `arr[np.array(seq)]`, which will result either in an error or a different result.\n",
      "  out[coords] = 1\n",
      "C:\\Users\\debadutta\\Documents\\GitHub\\COMP5328NMF\\src\\preprocessing\\saltnpepper.py:24: FutureWarning: Using a non-tuple sequence for multidimensional indexing is deprecated; use `arr[tuple(seq)]` instead of `arr[seq]`. In the future this will be interpreted as an array index, `arr[np.array(seq)]`, which will result either in an error or a different result.\n",
      "  out[coords] = 0\n",
      "G:\\Python\\Anaconda\\lib\\site-packages\\sklearn\\decomposition\\_nmf.py:1076: ConvergenceWarning: Maximum number of iterations 200 reached. Increase it to improve convergence.\n",
      "  warnings.warn(\"Maximum number of iterations %d reached. Increase it to\"\n"
     ]
    },
    {
     "name": "stdout",
     "output_type": "stream",
     "text": [
      "Acc(NMI) = 58.0556 (73.7246)\n",
      "==> Apply NmfL2 ...\n",
      "Acc(NMI) = 60.8333 (76.5607)\n",
      "==> Apply NmfHyper ...\n",
      "Acc(NMI) = 18.0556 (35.2772)\n",
      "Iteration number: 0.2 2\n",
      "==> Apply NMF ...\n"
     ]
    },
    {
     "name": "stderr",
     "output_type": "stream",
     "text": [
      "C:\\Users\\debadutta\\Documents\\GitHub\\COMP5328NMF\\src\\preprocessing\\saltnpepper.py:18: FutureWarning: Using a non-tuple sequence for multidimensional indexing is deprecated; use `arr[tuple(seq)]` instead of `arr[seq]`. In the future this will be interpreted as an array index, `arr[np.array(seq)]`, which will result either in an error or a different result.\n",
      "  out[coords] = 1\n",
      "C:\\Users\\debadutta\\Documents\\GitHub\\COMP5328NMF\\src\\preprocessing\\saltnpepper.py:24: FutureWarning: Using a non-tuple sequence for multidimensional indexing is deprecated; use `arr[tuple(seq)]` instead of `arr[seq]`. In the future this will be interpreted as an array index, `arr[np.array(seq)]`, which will result either in an error or a different result.\n",
      "  out[coords] = 0\n",
      "G:\\Python\\Anaconda\\lib\\site-packages\\sklearn\\decomposition\\_nmf.py:1076: ConvergenceWarning: Maximum number of iterations 200 reached. Increase it to improve convergence.\n",
      "  warnings.warn(\"Maximum number of iterations %d reached. Increase it to\"\n"
     ]
    },
    {
     "name": "stdout",
     "output_type": "stream",
     "text": [
      "Acc(NMI) = 61.1111 (75.8419)\n",
      "==> Apply NmfL2 ...\n",
      "Acc(NMI) = 60.2778 (74.1674)\n",
      "==> Apply NmfHyper ...\n",
      "Acc(NMI) = 17.5000 (35.6868)\n",
      "Iteration number: 0.2 3\n",
      "==> Apply NMF ...\n"
     ]
    },
    {
     "name": "stderr",
     "output_type": "stream",
     "text": [
      "C:\\Users\\debadutta\\Documents\\GitHub\\COMP5328NMF\\src\\preprocessing\\saltnpepper.py:18: FutureWarning: Using a non-tuple sequence for multidimensional indexing is deprecated; use `arr[tuple(seq)]` instead of `arr[seq]`. In the future this will be interpreted as an array index, `arr[np.array(seq)]`, which will result either in an error or a different result.\n",
      "  out[coords] = 1\n",
      "C:\\Users\\debadutta\\Documents\\GitHub\\COMP5328NMF\\src\\preprocessing\\saltnpepper.py:24: FutureWarning: Using a non-tuple sequence for multidimensional indexing is deprecated; use `arr[tuple(seq)]` instead of `arr[seq]`. In the future this will be interpreted as an array index, `arr[np.array(seq)]`, which will result either in an error or a different result.\n",
      "  out[coords] = 0\n",
      "G:\\Python\\Anaconda\\lib\\site-packages\\sklearn\\decomposition\\_nmf.py:1076: ConvergenceWarning: Maximum number of iterations 200 reached. Increase it to improve convergence.\n",
      "  warnings.warn(\"Maximum number of iterations %d reached. Increase it to\"\n"
     ]
    },
    {
     "name": "stdout",
     "output_type": "stream",
     "text": [
      "Acc(NMI) = 62.5000 (75.5936)\n",
      "==> Apply NmfL2 ...\n",
      "Acc(NMI) = 61.6667 (74.8779)\n",
      "==> Apply NmfHyper ...\n",
      "Acc(NMI) = 17.2222 (35.7143)\n",
      "Iteration number: 0.2 4\n",
      "==> Apply NMF ...\n"
     ]
    },
    {
     "name": "stderr",
     "output_type": "stream",
     "text": [
      "C:\\Users\\debadutta\\Documents\\GitHub\\COMP5328NMF\\src\\preprocessing\\saltnpepper.py:18: FutureWarning: Using a non-tuple sequence for multidimensional indexing is deprecated; use `arr[tuple(seq)]` instead of `arr[seq]`. In the future this will be interpreted as an array index, `arr[np.array(seq)]`, which will result either in an error or a different result.\n",
      "  out[coords] = 1\n",
      "C:\\Users\\debadutta\\Documents\\GitHub\\COMP5328NMF\\src\\preprocessing\\saltnpepper.py:24: FutureWarning: Using a non-tuple sequence for multidimensional indexing is deprecated; use `arr[tuple(seq)]` instead of `arr[seq]`. In the future this will be interpreted as an array index, `arr[np.array(seq)]`, which will result either in an error or a different result.\n",
      "  out[coords] = 0\n",
      "G:\\Python\\Anaconda\\lib\\site-packages\\sklearn\\decomposition\\_nmf.py:1076: ConvergenceWarning: Maximum number of iterations 200 reached. Increase it to improve convergence.\n",
      "  warnings.warn(\"Maximum number of iterations %d reached. Increase it to\"\n"
     ]
    },
    {
     "name": "stdout",
     "output_type": "stream",
     "text": [
      "Acc(NMI) = 61.6667 (77.0593)\n",
      "==> Apply NmfL2 ...\n",
      "Acc(NMI) = 59.4444 (76.4401)\n",
      "==> Apply NmfHyper ...\n",
      "Acc(NMI) = 17.7778 (35.6499)\n",
      "Iteration number: 0.4 0\n",
      "==> Apply NMF ...\n"
     ]
    },
    {
     "name": "stderr",
     "output_type": "stream",
     "text": [
      "C:\\Users\\debadutta\\Documents\\GitHub\\COMP5328NMF\\src\\preprocessing\\saltnpepper.py:18: FutureWarning: Using a non-tuple sequence for multidimensional indexing is deprecated; use `arr[tuple(seq)]` instead of `arr[seq]`. In the future this will be interpreted as an array index, `arr[np.array(seq)]`, which will result either in an error or a different result.\n",
      "  out[coords] = 1\n",
      "C:\\Users\\debadutta\\Documents\\GitHub\\COMP5328NMF\\src\\preprocessing\\saltnpepper.py:24: FutureWarning: Using a non-tuple sequence for multidimensional indexing is deprecated; use `arr[tuple(seq)]` instead of `arr[seq]`. In the future this will be interpreted as an array index, `arr[np.array(seq)]`, which will result either in an error or a different result.\n",
      "  out[coords] = 0\n",
      "G:\\Python\\Anaconda\\lib\\site-packages\\sklearn\\decomposition\\_nmf.py:1076: ConvergenceWarning: Maximum number of iterations 200 reached. Increase it to improve convergence.\n",
      "  warnings.warn(\"Maximum number of iterations %d reached. Increase it to\"\n"
     ]
    },
    {
     "name": "stdout",
     "output_type": "stream",
     "text": [
      "Acc(NMI) = 40.0000 (57.8111)\n",
      "==> Apply NmfL2 ...\n",
      "Acc(NMI) = 40.0000 (58.3009)\n",
      "==> Apply NmfHyper ...\n",
      "Acc(NMI) = 18.3333 (38.2311)\n",
      "Iteration number: 0.4 1\n",
      "==> Apply NMF ...\n"
     ]
    },
    {
     "name": "stderr",
     "output_type": "stream",
     "text": [
      "C:\\Users\\debadutta\\Documents\\GitHub\\COMP5328NMF\\src\\preprocessing\\saltnpepper.py:18: FutureWarning: Using a non-tuple sequence for multidimensional indexing is deprecated; use `arr[tuple(seq)]` instead of `arr[seq]`. In the future this will be interpreted as an array index, `arr[np.array(seq)]`, which will result either in an error or a different result.\n",
      "  out[coords] = 1\n",
      "C:\\Users\\debadutta\\Documents\\GitHub\\COMP5328NMF\\src\\preprocessing\\saltnpepper.py:24: FutureWarning: Using a non-tuple sequence for multidimensional indexing is deprecated; use `arr[tuple(seq)]` instead of `arr[seq]`. In the future this will be interpreted as an array index, `arr[np.array(seq)]`, which will result either in an error or a different result.\n",
      "  out[coords] = 0\n",
      "G:\\Python\\Anaconda\\lib\\site-packages\\sklearn\\decomposition\\_nmf.py:1076: ConvergenceWarning: Maximum number of iterations 200 reached. Increase it to improve convergence.\n",
      "  warnings.warn(\"Maximum number of iterations %d reached. Increase it to\"\n"
     ]
    },
    {
     "name": "stdout",
     "output_type": "stream",
     "text": [
      "Acc(NMI) = 43.0556 (61.4198)\n",
      "==> Apply NmfL2 ...\n",
      "Acc(NMI) = 37.7778 (57.4836)\n",
      "==> Apply NmfHyper ...\n",
      "Acc(NMI) = 17.5000 (36.1398)\n",
      "Iteration number: 0.4 2\n",
      "==> Apply NMF ...\n"
     ]
    },
    {
     "name": "stderr",
     "output_type": "stream",
     "text": [
      "C:\\Users\\debadutta\\Documents\\GitHub\\COMP5328NMF\\src\\preprocessing\\saltnpepper.py:18: FutureWarning: Using a non-tuple sequence for multidimensional indexing is deprecated; use `arr[tuple(seq)]` instead of `arr[seq]`. In the future this will be interpreted as an array index, `arr[np.array(seq)]`, which will result either in an error or a different result.\n",
      "  out[coords] = 1\n",
      "C:\\Users\\debadutta\\Documents\\GitHub\\COMP5328NMF\\src\\preprocessing\\saltnpepper.py:24: FutureWarning: Using a non-tuple sequence for multidimensional indexing is deprecated; use `arr[tuple(seq)]` instead of `arr[seq]`. In the future this will be interpreted as an array index, `arr[np.array(seq)]`, which will result either in an error or a different result.\n",
      "  out[coords] = 0\n",
      "G:\\Python\\Anaconda\\lib\\site-packages\\sklearn\\decomposition\\_nmf.py:1076: ConvergenceWarning: Maximum number of iterations 200 reached. Increase it to improve convergence.\n",
      "  warnings.warn(\"Maximum number of iterations %d reached. Increase it to\"\n"
     ]
    },
    {
     "name": "stdout",
     "output_type": "stream",
     "text": [
      "Acc(NMI) = 40.0000 (57.9483)\n",
      "==> Apply NmfL2 ...\n",
      "Acc(NMI) = 42.2222 (60.3001)\n",
      "==> Apply NmfHyper ...\n",
      "Acc(NMI) = 18.6111 (36.1458)\n",
      "Iteration number: 0.4 3\n",
      "==> Apply NMF ...\n"
     ]
    },
    {
     "name": "stderr",
     "output_type": "stream",
     "text": [
      "C:\\Users\\debadutta\\Documents\\GitHub\\COMP5328NMF\\src\\preprocessing\\saltnpepper.py:18: FutureWarning: Using a non-tuple sequence for multidimensional indexing is deprecated; use `arr[tuple(seq)]` instead of `arr[seq]`. In the future this will be interpreted as an array index, `arr[np.array(seq)]`, which will result either in an error or a different result.\n",
      "  out[coords] = 1\n",
      "C:\\Users\\debadutta\\Documents\\GitHub\\COMP5328NMF\\src\\preprocessing\\saltnpepper.py:24: FutureWarning: Using a non-tuple sequence for multidimensional indexing is deprecated; use `arr[tuple(seq)]` instead of `arr[seq]`. In the future this will be interpreted as an array index, `arr[np.array(seq)]`, which will result either in an error or a different result.\n",
      "  out[coords] = 0\n",
      "G:\\Python\\Anaconda\\lib\\site-packages\\sklearn\\decomposition\\_nmf.py:1076: ConvergenceWarning: Maximum number of iterations 200 reached. Increase it to improve convergence.\n",
      "  warnings.warn(\"Maximum number of iterations %d reached. Increase it to\"\n"
     ]
    },
    {
     "name": "stdout",
     "output_type": "stream",
     "text": [
      "Acc(NMI) = 44.4444 (60.2796)\n",
      "==> Apply NmfL2 ...\n",
      "Acc(NMI) = 43.0556 (60.0108)\n",
      "==> Apply NmfHyper ...\n",
      "Acc(NMI) = 16.6667 (33.1401)\n",
      "Iteration number: 0.4 4\n",
      "==> Apply NMF ...\n"
     ]
    },
    {
     "name": "stderr",
     "output_type": "stream",
     "text": [
      "C:\\Users\\debadutta\\Documents\\GitHub\\COMP5328NMF\\src\\preprocessing\\saltnpepper.py:18: FutureWarning: Using a non-tuple sequence for multidimensional indexing is deprecated; use `arr[tuple(seq)]` instead of `arr[seq]`. In the future this will be interpreted as an array index, `arr[np.array(seq)]`, which will result either in an error or a different result.\n",
      "  out[coords] = 1\n",
      "C:\\Users\\debadutta\\Documents\\GitHub\\COMP5328NMF\\src\\preprocessing\\saltnpepper.py:24: FutureWarning: Using a non-tuple sequence for multidimensional indexing is deprecated; use `arr[tuple(seq)]` instead of `arr[seq]`. In the future this will be interpreted as an array index, `arr[np.array(seq)]`, which will result either in an error or a different result.\n",
      "  out[coords] = 0\n",
      "G:\\Python\\Anaconda\\lib\\site-packages\\sklearn\\decomposition\\_nmf.py:1076: ConvergenceWarning: Maximum number of iterations 200 reached. Increase it to improve convergence.\n",
      "  warnings.warn(\"Maximum number of iterations %d reached. Increase it to\"\n"
     ]
    },
    {
     "name": "stdout",
     "output_type": "stream",
     "text": [
      "Acc(NMI) = 38.6111 (57.2997)\n",
      "==> Apply NmfL2 ...\n",
      "Acc(NMI) = 41.3889 (59.7370)\n",
      "==> Apply NmfHyper ...\n",
      "Acc(NMI) = 17.5000 (34.6600)\n",
      "Iteration number: 0.6000000000000001 0\n",
      "==> Apply NMF ...\n"
     ]
    },
    {
     "name": "stderr",
     "output_type": "stream",
     "text": [
      "C:\\Users\\debadutta\\Documents\\GitHub\\COMP5328NMF\\src\\preprocessing\\saltnpepper.py:18: FutureWarning: Using a non-tuple sequence for multidimensional indexing is deprecated; use `arr[tuple(seq)]` instead of `arr[seq]`. In the future this will be interpreted as an array index, `arr[np.array(seq)]`, which will result either in an error or a different result.\n",
      "  out[coords] = 1\n",
      "C:\\Users\\debadutta\\Documents\\GitHub\\COMP5328NMF\\src\\preprocessing\\saltnpepper.py:24: FutureWarning: Using a non-tuple sequence for multidimensional indexing is deprecated; use `arr[tuple(seq)]` instead of `arr[seq]`. In the future this will be interpreted as an array index, `arr[np.array(seq)]`, which will result either in an error or a different result.\n",
      "  out[coords] = 0\n",
      "G:\\Python\\Anaconda\\lib\\site-packages\\sklearn\\decomposition\\_nmf.py:1076: ConvergenceWarning: Maximum number of iterations 200 reached. Increase it to improve convergence.\n",
      "  warnings.warn(\"Maximum number of iterations %d reached. Increase it to\"\n"
     ]
    },
    {
     "name": "stdout",
     "output_type": "stream",
     "text": [
      "Acc(NMI) = 28.3333 (49.2936)\n",
      "==> Apply NmfL2 ...\n",
      "Acc(NMI) = 28.8889 (47.4067)\n",
      "==> Apply NmfHyper ...\n",
      "Acc(NMI) = 19.1667 (38.4899)\n",
      "Iteration number: 0.6000000000000001 1\n",
      "==> Apply NMF ...\n"
     ]
    },
    {
     "name": "stderr",
     "output_type": "stream",
     "text": [
      "C:\\Users\\debadutta\\Documents\\GitHub\\COMP5328NMF\\src\\preprocessing\\saltnpepper.py:18: FutureWarning: Using a non-tuple sequence for multidimensional indexing is deprecated; use `arr[tuple(seq)]` instead of `arr[seq]`. In the future this will be interpreted as an array index, `arr[np.array(seq)]`, which will result either in an error or a different result.\n",
      "  out[coords] = 1\n",
      "C:\\Users\\debadutta\\Documents\\GitHub\\COMP5328NMF\\src\\preprocessing\\saltnpepper.py:24: FutureWarning: Using a non-tuple sequence for multidimensional indexing is deprecated; use `arr[tuple(seq)]` instead of `arr[seq]`. In the future this will be interpreted as an array index, `arr[np.array(seq)]`, which will result either in an error or a different result.\n",
      "  out[coords] = 0\n",
      "G:\\Python\\Anaconda\\lib\\site-packages\\sklearn\\decomposition\\_nmf.py:1076: ConvergenceWarning: Maximum number of iterations 200 reached. Increase it to improve convergence.\n",
      "  warnings.warn(\"Maximum number of iterations %d reached. Increase it to\"\n"
     ]
    },
    {
     "name": "stdout",
     "output_type": "stream",
     "text": [
      "Acc(NMI) = 33.3333 (52.1997)\n",
      "==> Apply NmfL2 ...\n",
      "Acc(NMI) = 28.0556 (47.4401)\n",
      "==> Apply NmfHyper ...\n",
      "Acc(NMI) = 18.3333 (36.5043)\n",
      "Iteration number: 0.6000000000000001 2\n",
      "==> Apply NMF ...\n"
     ]
    },
    {
     "name": "stderr",
     "output_type": "stream",
     "text": [
      "C:\\Users\\debadutta\\Documents\\GitHub\\COMP5328NMF\\src\\preprocessing\\saltnpepper.py:18: FutureWarning: Using a non-tuple sequence for multidimensional indexing is deprecated; use `arr[tuple(seq)]` instead of `arr[seq]`. In the future this will be interpreted as an array index, `arr[np.array(seq)]`, which will result either in an error or a different result.\n",
      "  out[coords] = 1\n",
      "C:\\Users\\debadutta\\Documents\\GitHub\\COMP5328NMF\\src\\preprocessing\\saltnpepper.py:24: FutureWarning: Using a non-tuple sequence for multidimensional indexing is deprecated; use `arr[tuple(seq)]` instead of `arr[seq]`. In the future this will be interpreted as an array index, `arr[np.array(seq)]`, which will result either in an error or a different result.\n",
      "  out[coords] = 0\n",
      "G:\\Python\\Anaconda\\lib\\site-packages\\sklearn\\decomposition\\_nmf.py:1076: ConvergenceWarning: Maximum number of iterations 200 reached. Increase it to improve convergence.\n",
      "  warnings.warn(\"Maximum number of iterations %d reached. Increase it to\"\n"
     ]
    },
    {
     "name": "stdout",
     "output_type": "stream",
     "text": [
      "Acc(NMI) = 33.6111 (51.9512)\n",
      "==> Apply NmfL2 ...\n",
      "Acc(NMI) = 30.5556 (47.8480)\n",
      "==> Apply NmfHyper ...\n",
      "Acc(NMI) = 18.6111 (38.6931)\n",
      "Iteration number: 0.6000000000000001 3\n",
      "==> Apply NMF ...\n"
     ]
    },
    {
     "name": "stderr",
     "output_type": "stream",
     "text": [
      "C:\\Users\\debadutta\\Documents\\GitHub\\COMP5328NMF\\src\\preprocessing\\saltnpepper.py:18: FutureWarning: Using a non-tuple sequence for multidimensional indexing is deprecated; use `arr[tuple(seq)]` instead of `arr[seq]`. In the future this will be interpreted as an array index, `arr[np.array(seq)]`, which will result either in an error or a different result.\n",
      "  out[coords] = 1\n",
      "C:\\Users\\debadutta\\Documents\\GitHub\\COMP5328NMF\\src\\preprocessing\\saltnpepper.py:24: FutureWarning: Using a non-tuple sequence for multidimensional indexing is deprecated; use `arr[tuple(seq)]` instead of `arr[seq]`. In the future this will be interpreted as an array index, `arr[np.array(seq)]`, which will result either in an error or a different result.\n",
      "  out[coords] = 0\n",
      "G:\\Python\\Anaconda\\lib\\site-packages\\sklearn\\decomposition\\_nmf.py:1076: ConvergenceWarning: Maximum number of iterations 200 reached. Increase it to improve convergence.\n",
      "  warnings.warn(\"Maximum number of iterations %d reached. Increase it to\"\n"
     ]
    },
    {
     "name": "stdout",
     "output_type": "stream",
     "text": [
      "Acc(NMI) = 29.1667 (48.0550)\n",
      "==> Apply NmfL2 ...\n",
      "Acc(NMI) = 29.4444 (49.3454)\n",
      "==> Apply NmfHyper ...\n",
      "Acc(NMI) = 17.7778 (34.7128)\n",
      "Iteration number: 0.6000000000000001 4\n",
      "==> Apply NMF ...\n"
     ]
    },
    {
     "name": "stderr",
     "output_type": "stream",
     "text": [
      "C:\\Users\\debadutta\\Documents\\GitHub\\COMP5328NMF\\src\\preprocessing\\saltnpepper.py:18: FutureWarning: Using a non-tuple sequence for multidimensional indexing is deprecated; use `arr[tuple(seq)]` instead of `arr[seq]`. In the future this will be interpreted as an array index, `arr[np.array(seq)]`, which will result either in an error or a different result.\n",
      "  out[coords] = 1\n",
      "C:\\Users\\debadutta\\Documents\\GitHub\\COMP5328NMF\\src\\preprocessing\\saltnpepper.py:24: FutureWarning: Using a non-tuple sequence for multidimensional indexing is deprecated; use `arr[tuple(seq)]` instead of `arr[seq]`. In the future this will be interpreted as an array index, `arr[np.array(seq)]`, which will result either in an error or a different result.\n",
      "  out[coords] = 0\n",
      "G:\\Python\\Anaconda\\lib\\site-packages\\sklearn\\decomposition\\_nmf.py:1076: ConvergenceWarning: Maximum number of iterations 200 reached. Increase it to improve convergence.\n",
      "  warnings.warn(\"Maximum number of iterations %d reached. Increase it to\"\n"
     ]
    },
    {
     "name": "stdout",
     "output_type": "stream",
     "text": [
      "Acc(NMI) = 29.4444 (48.2923)\n",
      "==> Apply NmfL2 ...\n",
      "Acc(NMI) = 29.1667 (48.8328)\n",
      "==> Apply NmfHyper ...\n",
      "Acc(NMI) = 18.0556 (38.3393)\n",
      "Iteration number: 0.8 0\n",
      "==> Apply NMF ...\n"
     ]
    },
    {
     "name": "stderr",
     "output_type": "stream",
     "text": [
      "C:\\Users\\debadutta\\Documents\\GitHub\\COMP5328NMF\\src\\preprocessing\\saltnpepper.py:18: FutureWarning: Using a non-tuple sequence for multidimensional indexing is deprecated; use `arr[tuple(seq)]` instead of `arr[seq]`. In the future this will be interpreted as an array index, `arr[np.array(seq)]`, which will result either in an error or a different result.\n",
      "  out[coords] = 1\n",
      "C:\\Users\\debadutta\\Documents\\GitHub\\COMP5328NMF\\src\\preprocessing\\saltnpepper.py:24: FutureWarning: Using a non-tuple sequence for multidimensional indexing is deprecated; use `arr[tuple(seq)]` instead of `arr[seq]`. In the future this will be interpreted as an array index, `arr[np.array(seq)]`, which will result either in an error or a different result.\n",
      "  out[coords] = 0\n",
      "G:\\Python\\Anaconda\\lib\\site-packages\\sklearn\\decomposition\\_nmf.py:1076: ConvergenceWarning: Maximum number of iterations 200 reached. Increase it to improve convergence.\n",
      "  warnings.warn(\"Maximum number of iterations %d reached. Increase it to\"\n"
     ]
    },
    {
     "name": "stdout",
     "output_type": "stream",
     "text": [
      "Acc(NMI) = 24.4444 (42.7001)\n",
      "==> Apply NmfL2 ...\n",
      "Acc(NMI) = 23.6111 (41.5672)\n",
      "==> Apply NmfHyper ...\n",
      "Acc(NMI) = 16.9444 (35.3437)\n",
      "Iteration number: 0.8 1\n",
      "==> Apply NMF ...\n"
     ]
    },
    {
     "name": "stderr",
     "output_type": "stream",
     "text": [
      "C:\\Users\\debadutta\\Documents\\GitHub\\COMP5328NMF\\src\\preprocessing\\saltnpepper.py:18: FutureWarning: Using a non-tuple sequence for multidimensional indexing is deprecated; use `arr[tuple(seq)]` instead of `arr[seq]`. In the future this will be interpreted as an array index, `arr[np.array(seq)]`, which will result either in an error or a different result.\n",
      "  out[coords] = 1\n",
      "C:\\Users\\debadutta\\Documents\\GitHub\\COMP5328NMF\\src\\preprocessing\\saltnpepper.py:24: FutureWarning: Using a non-tuple sequence for multidimensional indexing is deprecated; use `arr[tuple(seq)]` instead of `arr[seq]`. In the future this will be interpreted as an array index, `arr[np.array(seq)]`, which will result either in an error or a different result.\n",
      "  out[coords] = 0\n",
      "G:\\Python\\Anaconda\\lib\\site-packages\\sklearn\\decomposition\\_nmf.py:1076: ConvergenceWarning: Maximum number of iterations 200 reached. Increase it to improve convergence.\n",
      "  warnings.warn(\"Maximum number of iterations %d reached. Increase it to\"\n"
     ]
    },
    {
     "name": "stdout",
     "output_type": "stream",
     "text": [
      "Acc(NMI) = 24.1667 (43.7581)\n",
      "==> Apply NmfL2 ...\n",
      "Acc(NMI) = 23.6111 (42.6814)\n",
      "==> Apply NmfHyper ...\n",
      "Acc(NMI) = 18.0556 (33.4312)\n",
      "Iteration number: 0.8 2\n",
      "==> Apply NMF ...\n"
     ]
    },
    {
     "name": "stderr",
     "output_type": "stream",
     "text": [
      "C:\\Users\\debadutta\\Documents\\GitHub\\COMP5328NMF\\src\\preprocessing\\saltnpepper.py:18: FutureWarning: Using a non-tuple sequence for multidimensional indexing is deprecated; use `arr[tuple(seq)]` instead of `arr[seq]`. In the future this will be interpreted as an array index, `arr[np.array(seq)]`, which will result either in an error or a different result.\n",
      "  out[coords] = 1\n",
      "C:\\Users\\debadutta\\Documents\\GitHub\\COMP5328NMF\\src\\preprocessing\\saltnpepper.py:24: FutureWarning: Using a non-tuple sequence for multidimensional indexing is deprecated; use `arr[tuple(seq)]` instead of `arr[seq]`. In the future this will be interpreted as an array index, `arr[np.array(seq)]`, which will result either in an error or a different result.\n",
      "  out[coords] = 0\n",
      "G:\\Python\\Anaconda\\lib\\site-packages\\sklearn\\decomposition\\_nmf.py:1076: ConvergenceWarning: Maximum number of iterations 200 reached. Increase it to improve convergence.\n",
      "  warnings.warn(\"Maximum number of iterations %d reached. Increase it to\"\n"
     ]
    },
    {
     "name": "stdout",
     "output_type": "stream",
     "text": [
      "Acc(NMI) = 26.6667 (44.2539)\n",
      "==> Apply NmfL2 ...\n",
      "Acc(NMI) = 26.6667 (44.3140)\n",
      "==> Apply NmfHyper ...\n",
      "Acc(NMI) = 17.7778 (36.8437)\n",
      "Iteration number: 0.8 3\n",
      "==> Apply NMF ...\n"
     ]
    },
    {
     "name": "stderr",
     "output_type": "stream",
     "text": [
      "C:\\Users\\debadutta\\Documents\\GitHub\\COMP5328NMF\\src\\preprocessing\\saltnpepper.py:18: FutureWarning: Using a non-tuple sequence for multidimensional indexing is deprecated; use `arr[tuple(seq)]` instead of `arr[seq]`. In the future this will be interpreted as an array index, `arr[np.array(seq)]`, which will result either in an error or a different result.\n",
      "  out[coords] = 1\n",
      "C:\\Users\\debadutta\\Documents\\GitHub\\COMP5328NMF\\src\\preprocessing\\saltnpepper.py:24: FutureWarning: Using a non-tuple sequence for multidimensional indexing is deprecated; use `arr[tuple(seq)]` instead of `arr[seq]`. In the future this will be interpreted as an array index, `arr[np.array(seq)]`, which will result either in an error or a different result.\n",
      "  out[coords] = 0\n",
      "G:\\Python\\Anaconda\\lib\\site-packages\\sklearn\\decomposition\\_nmf.py:1076: ConvergenceWarning: Maximum number of iterations 200 reached. Increase it to improve convergence.\n",
      "  warnings.warn(\"Maximum number of iterations %d reached. Increase it to\"\n"
     ]
    },
    {
     "name": "stdout",
     "output_type": "stream",
     "text": [
      "Acc(NMI) = 25.0000 (43.4867)\n",
      "==> Apply NmfL2 ...\n",
      "Acc(NMI) = 25.2778 (44.6929)\n",
      "==> Apply NmfHyper ...\n",
      "Acc(NMI) = 17.2222 (34.8085)\n",
      "Iteration number: 0.8 4\n",
      "==> Apply NMF ...\n"
     ]
    },
    {
     "name": "stderr",
     "output_type": "stream",
     "text": [
      "C:\\Users\\debadutta\\Documents\\GitHub\\COMP5328NMF\\src\\preprocessing\\saltnpepper.py:18: FutureWarning: Using a non-tuple sequence for multidimensional indexing is deprecated; use `arr[tuple(seq)]` instead of `arr[seq]`. In the future this will be interpreted as an array index, `arr[np.array(seq)]`, which will result either in an error or a different result.\n",
      "  out[coords] = 1\n",
      "C:\\Users\\debadutta\\Documents\\GitHub\\COMP5328NMF\\src\\preprocessing\\saltnpepper.py:24: FutureWarning: Using a non-tuple sequence for multidimensional indexing is deprecated; use `arr[tuple(seq)]` instead of `arr[seq]`. In the future this will be interpreted as an array index, `arr[np.array(seq)]`, which will result either in an error or a different result.\n",
      "  out[coords] = 0\n",
      "G:\\Python\\Anaconda\\lib\\site-packages\\sklearn\\decomposition\\_nmf.py:1076: ConvergenceWarning: Maximum number of iterations 200 reached. Increase it to improve convergence.\n",
      "  warnings.warn(\"Maximum number of iterations %d reached. Increase it to\"\n"
     ]
    },
    {
     "name": "stdout",
     "output_type": "stream",
     "text": [
      "Acc(NMI) = 24.4444 (42.1302)\n",
      "==> Apply NmfL2 ...\n",
      "Acc(NMI) = 23.3333 (41.7378)\n",
      "==> Apply NmfHyper ...\n",
      "Acc(NMI) = 18.6111 (35.6765)\n"
     ]
    }
   ],
   "source": [
    "from sklearn.decomposition import NMF\n",
    "from sklearn.model_selection import train_test_split\n",
    "from sklearn.model_selection import cross_val_score\n",
    "\n",
    "#Calculating RRE with noisy data\n",
    "n = V_hat.shape[1]\n",
    "arr = np.arange(n)\n",
    "\n",
    "noise_levels = np.arange(0, 1, 0.2)\n",
    "\n",
    "RRE_nmf_mean = []\n",
    "RRE_nmf_std = []\n",
    "acc_nmf_mean = []\n",
    "acc_nmf_std = []\n",
    "nmi_nmf_mean = []\n",
    "nmi_nmf_std = []\n",
    "RRE_L2_mean = []\n",
    "RRE_L2_std = []\n",
    "acc_L2_mean = []\n",
    "acc_L2_std = []\n",
    "nmi_L2_mean = []\n",
    "nmi_L2_std = []\n",
    "RRE_hyper_mean = []\n",
    "RRE_hyper_std = []\n",
    "acc_hyper_mean = []\n",
    "acc_hyper_std = []\n",
    "nmi_hyper_mean = []\n",
    "nmi_hyper_std = []\n",
    "\n",
    "for i in noise_levels:\n",
    "    rre_nmf_list = np.empty(5)\n",
    "    acc_nmf_list = np.empty(5)\n",
    "    nmi_nmf_list = np.empty(5)\n",
    "    rre_L2_list = np.empty(5)\n",
    "    acc_L2_list = np.empty(5)\n",
    "    nmi_L2_list = np.empty(5)\n",
    "    rre_hyper_list = np.empty(5)\n",
    "    acc_hyper_list = np.empty(5)\n",
    "    nmi_hyper_list = np.empty(5)    \n",
    "    \n",
    "    for j in range(5):\n",
    "\n",
    "        np.random.shuffle(arr)                #Shuffling the dataset\n",
    "        ntr = int(0.9*n)                      #Taking only 90% from the shuffled data\n",
    "        V_hat_smaller = V_hat.T[arr[:ntr]].T\n",
    "        Y_hat_smaller = Y_hat[arr[:ntr]]\n",
    "        \n",
    "        #Adding noise to the data for testing\n",
    "        noiseObj = noise(image=V_hat_smaller, p=i, r=0.3)\n",
    "        V = noiseObj.add_snp()\n",
    "\n",
    "        #Evaluating NMF from sklearn\n",
    "        print(\"Iteration number:\", i, j)\n",
    "        print('==> Apply NMF ...')\n",
    "        model = NMF(n_components=len(set(Y_hat_smaller))) # set n_components to num_classes.\n",
    "        W = model.fit_transform(V)\n",
    "        H = model.components_\n",
    "        #print('W.shape={}, H.shape={}'.format(W.shape, H.shape))\n",
    "        #Evaluate relative reconstruction errors.\n",
    "        #print('==> Evaluate RRE ...')\n",
    "        RRE = np.linalg.norm(V_hat_smaller - W.dot(H)) / np.linalg.norm(V_hat_smaller)\n",
    "        #print('RRE = {}'.format(RRE))\n",
    "        #print('==> Evaluate Acc and NMI for NMF ...')\n",
    "        # Assign cluster labels.\n",
    "        Y_pred = assign_cluster_label(H.T, Y_hat_smaller)\n",
    "        acc = accuracy_score(Y_hat_smaller, Y_pred)*100\n",
    "        nmi = normalized_mutual_info_score(Y_hat_smaller, Y_pred)*100\n",
    "        print('Acc(NMI) = {:.4f} ({:.4f})'.format(acc, nmi))\n",
    "        rre_nmf_list[j] = RRE\n",
    "        acc_nmf_list[j] = acc\n",
    "        nmi_nmf_list[j] = nmi\n",
    "\n",
    "        #Evaluating NmfL2\n",
    "        print('==> Apply NmfL2 ...')\n",
    "        model = NmfL2Estimator(n_components=len(set(Y_hat_smaller))) # set n_components to num_classes.\n",
    "        W = model.fit_transform(V)\n",
    "        H = model.components_\n",
    "        # Evaluate relative reconstruction errors.\n",
    "        #print('==> Evaluate RRE ...')\n",
    "        RRE = np.linalg.norm(V_hat_smaller - W.dot(H)) / np.linalg.norm(V_hat_smaller)\n",
    "        # Assign cluster labels.\n",
    "        Y_pred = assign_cluster_label(H.T, Y_hat_smaller)\n",
    "        acc = accuracy_score(Y_hat_smaller, Y_pred)*100\n",
    "        nmi = normalized_mutual_info_score(Y_hat_smaller, Y_pred)*100\n",
    "        print('Acc(NMI) = {:.4f} ({:.4f})'.format(acc, nmi))\n",
    "        rre_L2_list[j] = RRE\n",
    "        acc_L2_list[j] = acc\n",
    "        nmi_L2_list[j] = nmi        \n",
    "\n",
    "        #Evaluate NmfHyper\n",
    "        print('==> Apply NmfHyper ...')\n",
    "        model = NmfHyperEstimator(n_components=len(set(Y_hat_smaller))) # set n_components to num_classes.\n",
    "        W = model.fit_transform(V)\n",
    "        H = model.components_\n",
    "        # Evaluate relative reconstruction errors.\n",
    "        RRE = np.linalg.norm(V_hat_smaller - W.dot(H)) / np.linalg.norm(V_hat_smaller)\n",
    "        # Assign cluster labels.\n",
    "        Y_pred = assign_cluster_label(H.T, Y_hat_smaller)\n",
    "        acc = accuracy_score(Y_hat_smaller, Y_pred)*100\n",
    "        nmi = normalized_mutual_info_score(Y_hat_smaller, Y_pred)*100\n",
    "        print('Acc(NMI) = {:.4f} ({:.4f})'.format(acc, nmi))\n",
    "        rre_hyper_list[j] = RRE\n",
    "        acc_hyper_list[j] = acc\n",
    "        nmi_hyper_list[j] = nmi        \n",
    "        \n",
    "    RRE_nmf_mean.append(np.mean(rre_nmf_list))\n",
    "    RRE_nmf_std.append(np.std(rre_nmf_list))\n",
    "    acc_nmf_mean.append(np.mean(acc_nmf_list))\n",
    "    acc_nmf_std.append(np.std(acc_nmf_list))\n",
    "    nmi_nmf_mean.append(np.mean(nmi_nmf_list))\n",
    "    nmi_nmf_std.append(np.std(nmi_nmf_list))\n",
    "\n",
    "    RRE_L2_mean.append(np.mean(rre_L2_list))\n",
    "    RRE_L2_std.append(np.std(rre_L2_list))\n",
    "    acc_L2_mean.append(np.mean(acc_L2_list))\n",
    "    acc_L2_std.append(np.std(acc_L2_list))\n",
    "    nmi_L2_mean.append(np.mean(nmi_L2_list))\n",
    "    nmi_L2_std.append(np.std(nmi_L2_list)) \n",
    "    \n",
    "    RRE_hyper_mean.append(np.mean(rre_hyper_list))\n",
    "    RRE_hyper_std.append(np.std(rre_hyper_list))\n",
    "    acc_hyper_mean.append(np.mean(acc_hyper_list))\n",
    "    acc_hyper_std.append(np.std(acc_hyper_list))\n",
    "    nmi_hyper_mean.append(np.mean(nmi_hyper_list))\n",
    "    nmi_hyper_std.append(np.std(nmi_hyper_list)) "
   ]
  },
  {
   "cell_type": "code",
   "execution_count": 91,
   "metadata": {},
   "outputs": [
    {
     "data": {
      "image/png": "[encoded data removed]",
      "text/plain": [
       "<Figure size 720x360 with 2 Axes>"
      ]
     },
     "metadata": {
      "needs_background": "light"
     },
     "output_type": "display_data"
    }
   ],
   "source": [
    "import matplotlib.pyplot as plt\n",
    "\n",
    "noise_levels = np.arange(0, 1, 0.2)\n",
    "noise_levels_mod = (noise_levels * 100).tolist()\n",
    "\n",
    "fig, axes = plt.subplots(1, 2, figsize=(10, 5))\n",
    "axes[0].plot(noise_levels_mod, acc_nmf_mean, color='blue')\n",
    "axes[0].plot(noise_levels_mod, acc_L2_mean, color='red')\n",
    "axes[0].plot(noise_levels_mod, acc_hyper_mean, color='green')\n",
    "axes[1].plot(noise_levels_mod, nmi_nmf_mean, color='blue')\n",
    "axes[1].plot(noise_levels_mod, nmi_L2_mean, color='red')\n",
    "axes[1].plot(noise_levels_mod, nmi_hyper_mean, color='green')\n",
    "\n",
    "axes[0].set_xlabel(\"% of pixels containing Noise\")\n",
    "axes[0].set_ylabel(\"Accuracy in %\")\n",
    "axes[0].set_title(\"Accuracy Vs noise\")\n",
    "axes[1].set_xlabel(\"% of pixels containing Noise\")\n",
    "axes[1].set_ylabel(\"Normalised Mutual Informatio in %\")\n",
    "axes[1].set_title(\"Normalised Mutual Information Vs noise\")\n",
    "plt.show()"
   ]
  },
  {
   "cell_type": "code",
   "execution_count": null,
   "metadata": {},
   "outputs": [],
   "source": []
  }
 ],
 "metadata": {
  "kernelspec": {
   "display_name": "Python 3",
   "language": "python",
   "name": "python3"
  },
  "language_info": {
   "codemirror_mode": {
    "name": "ipython",
    "version": 3
   },
   "file_extension": ".py",
   "mimetype": "text/x-python",
   "name": "python",
   "nbconvert_exporter": "python",
   "pygments_lexer": "ipython3",
   "version": "3.8.3"
  }
 },
 "nbformat": 4,
 "nbformat_minor": 4
}
